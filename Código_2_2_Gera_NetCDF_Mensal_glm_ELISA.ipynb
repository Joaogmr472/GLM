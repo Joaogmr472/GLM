{
  "cells": [
    {
      "cell_type": "markdown",
      "metadata": {
        "id": "view-in-github",
        "colab_type": "text"
      },
      "source": [
        "<a href=\"https://colab.research.google.com/github/Joaogmr472/GLM/blob/main/C%C3%B3digo_2_2_Gera_NetCDF_Mensal_glm_ELISA.ipynb\" target=\"_parent\"><img src=\"https://colab.research.google.com/assets/colab-badge.svg\" alt=\"Open In Colab\"/></a>"
      ]
    },
    {
      "cell_type": "markdown",
      "metadata": {
        "id": "jnj0Bx6yNZBQ"
      },
      "source": [
        "# **GOES-16: REDE GLM (PARTE II.II)**\n",
        "\n",
        "**Gera arquivo Netcdf Mensal do GLM**\n",
        "\n",
        "\n",
        "---\n",
        "**OBJETIVO:** Este Google Colab acumula os dados de flashes do GLM abordo do GOES-16 para escala **MENSAL**.\n",
        "\n",
        "**DADOS DE ENTRADA**: Dados de flashes do GOES-16. \n",
        "\n",
        "**Dados:** Arquivos de relâmpagos a cada 5 min. **Local:** Os dados são processados e fornecidos pelo CPTEC/INPE e estão disponiveis [aqui](http://ftp.cptec.inpe.br/goes/goes16/goes16_web/glm_acumulado_nc/). \n",
        "**Nome:** S11635949_202011010000.nc.\n",
        "**Formato:** Netcdf\t\n",
        "---\n",
        "**DADOS DE SAÍDA:** Arquivo netcdf de flashes por **MÊS**.\n",
        "---\n",
        "**PROCEDIMENTO REALIZADO:** Os seguintes procedimentos são realizados nesse código:\n",
        "1.   Instalação da biblioteca `pyunpack`\n",
        "2.   Importação das bibliotecas\n",
        "3.   Monta o drive da pessoa\n",
        "4.   Download dos dados através do Drive\n",
        "5.   Descompacta os dados baixados\n",
        "6.   Acumula os flashes por mês\n",
        "7.   Salva os dados mensais num arquivo netcdf\n",
        " \n",
        "---\n",
        "**OBSERVAÇÕES IMPORTANTES**: \n",
        "1. Mudar o caminho para seu drive. Veja em: **###MUDANÇAS AQUI####**\n",
        "---\n",
        "***Realizado por: [João G M Ribeiro](https://github.com/Joaogmr472/) e [Enrique V Mattos](https://github.com/evmpython) - 17/mar/2022*** "
      ]
    },
    {
      "cell_type": "markdown",
      "metadata": {
        "id": "Hehr336l2Gqf"
      },
      "source": [
        "# **###MUDANÇAS AQUI###**"
      ]
    },
    {
      "cell_type": "markdown",
      "metadata": {
        "id": "kxxhE38T2JMd"
      },
      "source": [
        "- Insira o ano desejado"
      ]
    },
    {
      "cell_type": "code",
      "execution_count": null,
      "metadata": {
        "id": "iuN_QKa0036m"
      },
      "outputs": [],
      "source": [
        "ano = '2021'"
      ]
    },
    {
      "cell_type": "markdown",
      "metadata": {
        "id": "YUkGvV6K2Nct"
      },
      "source": [
        "- Insira o caminho do seu drive"
      ]
    },
    {
      "cell_type": "code",
      "execution_count": null,
      "metadata": {
        "id": "vzFFCUfe1jOH"
      },
      "outputs": [],
      "source": [
        "# local dos dados a cada 5 min\n",
        "path_5min = '/content/drive/MyDrive/MESTRADO/DADOS/GLM/DADOS_5min/2021/'\n",
        "\n",
        "# pasta de saída dos dados horários\n",
        "path = '/content/drive/MyDrive/MESTRADO/DADOS/GLM/DADOS_mensal/'"
      ]
    },
    {
      "cell_type": "markdown",
      "metadata": {
        "id": "cWw91sVP3Ot6"
      },
      "source": [
        "# **Instala biblioteca que descompacta arquivos .rar**"
      ]
    },
    {
      "cell_type": "code",
      "execution_count": null,
      "metadata": {
        "colab": {
          "base_uri": "https://localhost:8080/"
        },
        "id": "NS8K7ynYqUwP",
        "outputId": "cec108c9-f7ce-4be1-b427-e1e23ca097ea"
      },
      "outputs": [
        {
          "output_type": "stream",
          "name": "stdout",
          "text": [
            "Collecting patool\n",
            "  Downloading patool-1.12-py2.py3-none-any.whl (77 kB)\n",
            "\u001b[?25l\r\u001b[K     |████▎                           | 10 kB 17.2 MB/s eta 0:00:01\r\u001b[K     |████████▌                       | 20 kB 12.4 MB/s eta 0:00:01\r\u001b[K     |████████████▊                   | 30 kB 7.8 MB/s eta 0:00:01\r\u001b[K     |█████████████████               | 40 kB 7.4 MB/s eta 0:00:01\r\u001b[K     |█████████████████████▏          | 51 kB 6.0 MB/s eta 0:00:01\r\u001b[K     |█████████████████████████▍      | 61 kB 7.0 MB/s eta 0:00:01\r\u001b[K     |█████████████████████████████▋  | 71 kB 7.3 MB/s eta 0:00:01\r\u001b[K     |████████████████████████████████| 77 kB 3.0 MB/s \n",
            "\u001b[?25hCollecting pyunpack\n",
            "  Downloading pyunpack-0.2.2-py2.py3-none-any.whl (3.8 kB)\n",
            "Collecting easyprocess\n",
            "  Downloading EasyProcess-1.1-py3-none-any.whl (8.7 kB)\n",
            "Collecting entrypoint2\n",
            "  Downloading entrypoint2-1.0-py3-none-any.whl (9.8 kB)\n",
            "Installing collected packages: entrypoint2, easyprocess, pyunpack, patool\n",
            "Successfully installed easyprocess-1.1 entrypoint2-1.0 patool-1.12 pyunpack-0.2.2\n"
          ]
        }
      ],
      "source": [
        "!pip install patool pyunpack"
      ]
    },
    {
      "cell_type": "markdown",
      "metadata": {
        "id": "9Qa5t9tO3Tl4"
      },
      "source": [
        "# **Importa bibliotecas**"
      ]
    },
    {
      "cell_type": "code",
      "execution_count": null,
      "metadata": {
        "id": "zuoDRNyNqeqM"
      },
      "outputs": [],
      "source": [
        "import xarray as xr\n",
        "import time as t\n",
        "import glob\n",
        "import numpy as np\n",
        "from pyunpack import Archive\n",
        "import os\n",
        "import pandas as pd\n",
        "from datetime import datetime\n",
        "from tqdm.notebook import tqdm_notebook\n",
        "\n",
        "import warnings\n",
        "warnings.filterwarnings(\"ignore\")"
      ]
    },
    {
      "cell_type": "markdown",
      "source": [
        "# **Acessando o drive**"
      ],
      "metadata": {
        "id": "AUtHk4ddMcNL"
      }
    },
    {
      "cell_type": "code",
      "source": [
        "from google.colab import drive\n",
        "drive.mount('/content/drive')\n",
        "\n",
        "os.makedirs('input', exist_ok=True)"
      ],
      "metadata": {
        "id": "XF77U68KMYwr",
        "colab": {
          "base_uri": "https://localhost:8080/"
        },
        "outputId": "cc29dae3-1b77-4357-b81d-aa451a5f11da"
      },
      "execution_count": null,
      "outputs": [
        {
          "output_type": "stream",
          "name": "stdout",
          "text": [
            "Mounted at /content/drive\n"
          ]
        }
      ]
    },
    {
      "cell_type": "markdown",
      "metadata": {
        "id": "adqWvG7B3hp8"
      },
      "source": [
        "# **Decompacta os arquivos baixados**"
      ]
    },
    {
      "cell_type": "code",
      "execution_count": null,
      "metadata": {
        "colab": {
          "base_uri": "https://localhost:8080/"
        },
        "id": "X76S6U52qewA",
        "outputId": "731e61c2-f823-49be-d11c-73b2fa49a875"
      },
      "outputs": [
        {
          "output_type": "stream",
          "name": "stdout",
          "text": [
            "1\n",
            "2\n",
            "3\n",
            "4\n",
            "5\n",
            "6\n",
            "7\n",
            "8\n",
            "9\n",
            "10\n",
            "11\n",
            "12\n"
          ]
        }
      ],
      "source": [
        "# Looping para cada mês do ano\n",
        "for i in range(1, 13):\n",
        "  print(i)\n",
        "  Archive(f'{path_5min}{str(i).zfill(2)}.rar').extractall(f'/content/input/') "
      ]
    },
    {
      "cell_type": "markdown",
      "metadata": {
        "id": "Ud2_ve1HnRdN"
      },
      "source": [
        "#**Acumula os dados de flashes: por Mês**"
      ]
    },
    {
      "cell_type": "code",
      "execution_count": null,
      "metadata": {
        "colab": {
          "background_save": true,
          "base_uri": "https://localhost:8080/",
          "referenced_widgets": [
            "f95723c6543040a5927338e3931f85a6"
          ]
        },
        "id": "9W9Qq7d_0a4f",
        "outputId": "7a8a6a45-f916-4606-b092-5d2d3ef470fa"
      },
      "outputs": [
        {
          "name": "stdout",
          "output_type": "stream",
          "text": [
            "89 days, 23:00:00\n",
            "2021-01-01 00:00:00\n",
            "20210101 00\n"
          ]
        },
        {
          "data": {
            "application/vnd.jupyter.widget-view+json": {
              "model_id": "f95723c6543040a5927338e3931f85a6",
              "version_major": 2,
              "version_minor": 0
            },
            "text/plain": [
              "  0%|          | 0/3 [00:00<?, ?it/s]"
            ]
          },
          "metadata": {},
          "output_type": "display_data"
        },
        {
          "name": "stdout",
          "output_type": "stream",
          "text": [
            "2021 01 31 00  ...  714\n"
          ]
        }
      ],
      "source": [
        "# Inicia o contador de tempo\n",
        "start_time = t.time()\n",
        "\n",
        "# Data inicial\n",
        "date_in = datetime(int(ano), 1, 1,0)\n",
        "date_ini = date_in.strftime('%Y%m%d %H') \n",
        "\n",
        "# Data final\n",
        "date_en = datetime(int(ano), 12, 31,23)\n",
        "date_end = date_en.strftime('%Y%m%d %H')\n",
        "\n",
        "# Número  de dias \n",
        "n_days = date_en - date_in\n",
        "\n",
        "print(n_days)\n",
        "print(date_in)\n",
        "print(date_ini)\n",
        "\n",
        "# Loop por mês\n",
        "for file in  tqdm_notebook(pd.date_range(date_ini, date_end, freq='M')):\n",
        "    \n",
        "  # extrai a data\n",
        "  ano = file.strftime('%Y')\n",
        "  mes = file.strftime('%m')\n",
        "\n",
        "  # monta lista de arquivos daquele mês\n",
        "  files = glob.glob(f'/content/input/S11635949_{ano}{mes}*.nc')\n",
        "    \n",
        "  # Se existe arquivos naquele mês\n",
        "  if len(files) > 0:\n",
        "\n",
        "  # leitura dos dados num único dataset\n",
        "  glm = xr.open_mfdataset(f'/content/input/S11635949_{ano}{mes}{dia}*.nc', parallel=True)\n",
        "\n",
        "  # reamostra para escala mensal\n",
        "  glm['flash'].resample(time='1M').sum().to_netcdf(f'{path}{ano}/flash_mensal_goes16_{ano}-{mes}.nc') \n",
        "\n",
        "# Contabiliza o tempo para baixar os dados\n",
        "print('\\nTempo de concatenar os dados:', (round((t.time() - start_time),2))/60., 'minutos.')"
      ]
    },
    {
      "cell_type": "code",
      "execution_count": null,
      "metadata": {
        "id": "IFQv-c9bVmFW"
      },
      "outputs": [],
      "source": [
        ""
      ]
    }
  ],
  "metadata": {
    "colab": {
      "collapsed_sections": [
        "Hehr336l2Gqf",
        "2RdmOaUuQpiD",
        "vFWEpBGw6ioa"
      ],
      "name": "Código_2-2_Gera_NetCDF_Mensal_glm_ELISA.ipynb",
      "provenance": [],
      "include_colab_link": true
    },
    "kernelspec": {
      "display_name": "Python 3",
      "name": "python3"
    },
    "language_info": {
      "name": "python"
    }
  },
  "nbformat": 4,
  "nbformat_minor": 0
}