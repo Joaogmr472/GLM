{
  "nbformat": 4,
  "nbformat_minor": 0,
  "metadata": {
    "colab": {
      "name": "Código_4_Gera_NetCDF_Mensal_glm_ELISA.ipynb",
      "provenance": [],
      "collapsed_sections": [
        "Hehr336l2Gqf",
        "vCm-gYQfQdOz",
        "2RdmOaUuQpiD",
        "vFWEpBGw6ioa",
        "OIZx59kLQgUl",
        "T_Utbq0yQv2Q",
        "ubTAf5Gg9kcs",
        "4vn-jBIiz2hU",
        "Ud2_ve1HnRdN",
        "-HqX1Gn-zyyG"
      ],
      "include_colab_link": true
    },
    "kernelspec": {
      "name": "python3",
      "display_name": "Python 3"
    },
    "language_info": {
      "name": "python"
    },
    "widgets": {
      "application/vnd.jupyter.widget-state+json": {
        "8a3d4ffc634e43e0be337a52be08e2b7": {
          "model_module": "@jupyter-widgets/controls",
          "model_name": "HBoxModel",
          "model_module_version": "1.5.0",
          "state": {
            "_dom_classes": [],
            "_model_module": "@jupyter-widgets/controls",
            "_model_module_version": "1.5.0",
            "_model_name": "HBoxModel",
            "_view_count": null,
            "_view_module": "@jupyter-widgets/controls",
            "_view_module_version": "1.5.0",
            "_view_name": "HBoxView",
            "box_style": "",
            "children": [
              "IPY_MODEL_3d0716dcd9b54f609a2c1f82e2d9d058",
              "IPY_MODEL_c09397643f1c4bfcb961cf393d483b91",
              "IPY_MODEL_7c84d1141c404291914855fed6ee65eb"
            ],
            "layout": "IPY_MODEL_7bbf1e345b7d420cbc60db066e20c503"
          }
        },
        "3d0716dcd9b54f609a2c1f82e2d9d058": {
          "model_module": "@jupyter-widgets/controls",
          "model_name": "HTMLModel",
          "model_module_version": "1.5.0",
          "state": {
            "_dom_classes": [],
            "_model_module": "@jupyter-widgets/controls",
            "_model_module_version": "1.5.0",
            "_model_name": "HTMLModel",
            "_view_count": null,
            "_view_module": "@jupyter-widgets/controls",
            "_view_module_version": "1.5.0",
            "_view_name": "HTMLView",
            "description": "",
            "description_tooltip": null,
            "layout": "IPY_MODEL_2b337979eeb843e59406752a33584a08",
            "placeholder": "​",
            "style": "IPY_MODEL_8f5db99c6c79433bae8da79faa99cc80",
            "value": " 25%"
          }
        },
        "c09397643f1c4bfcb961cf393d483b91": {
          "model_module": "@jupyter-widgets/controls",
          "model_name": "FloatProgressModel",
          "model_module_version": "1.5.0",
          "state": {
            "_dom_classes": [],
            "_model_module": "@jupyter-widgets/controls",
            "_model_module_version": "1.5.0",
            "_model_name": "FloatProgressModel",
            "_view_count": null,
            "_view_module": "@jupyter-widgets/controls",
            "_view_module_version": "1.5.0",
            "_view_name": "ProgressView",
            "bar_style": "",
            "description": "",
            "description_tooltip": null,
            "layout": "IPY_MODEL_68df19e92644457b9b57037e4db215ad",
            "max": 12,
            "min": 0,
            "orientation": "horizontal",
            "style": "IPY_MODEL_410e8052c4744688b0274522448202a6",
            "value": 3
          }
        },
        "7c84d1141c404291914855fed6ee65eb": {
          "model_module": "@jupyter-widgets/controls",
          "model_name": "HTMLModel",
          "model_module_version": "1.5.0",
          "state": {
            "_dom_classes": [],
            "_model_module": "@jupyter-widgets/controls",
            "_model_module_version": "1.5.0",
            "_model_name": "HTMLModel",
            "_view_count": null,
            "_view_module": "@jupyter-widgets/controls",
            "_view_module_version": "1.5.0",
            "_view_name": "HTMLView",
            "description": "",
            "description_tooltip": null,
            "layout": "IPY_MODEL_5d4b20fb965e4efe941842a2c9ea9bb5",
            "placeholder": "​",
            "style": "IPY_MODEL_7813d3694f024eadaa7bb0fd80ac6e7f",
            "value": " 3/12 [01:11&lt;02:49, 18.88s/it]"
          }
        },
        "7bbf1e345b7d420cbc60db066e20c503": {
          "model_module": "@jupyter-widgets/base",
          "model_name": "LayoutModel",
          "model_module_version": "1.2.0",
          "state": {
            "_model_module": "@jupyter-widgets/base",
            "_model_module_version": "1.2.0",
            "_model_name": "LayoutModel",
            "_view_count": null,
            "_view_module": "@jupyter-widgets/base",
            "_view_module_version": "1.2.0",
            "_view_name": "LayoutView",
            "align_content": null,
            "align_items": null,
            "align_self": null,
            "border": null,
            "bottom": null,
            "display": null,
            "flex": null,
            "flex_flow": null,
            "grid_area": null,
            "grid_auto_columns": null,
            "grid_auto_flow": null,
            "grid_auto_rows": null,
            "grid_column": null,
            "grid_gap": null,
            "grid_row": null,
            "grid_template_areas": null,
            "grid_template_columns": null,
            "grid_template_rows": null,
            "height": null,
            "justify_content": null,
            "justify_items": null,
            "left": null,
            "margin": null,
            "max_height": null,
            "max_width": null,
            "min_height": null,
            "min_width": null,
            "object_fit": null,
            "object_position": null,
            "order": null,
            "overflow": null,
            "overflow_x": null,
            "overflow_y": null,
            "padding": null,
            "right": null,
            "top": null,
            "visibility": null,
            "width": null
          }
        },
        "2b337979eeb843e59406752a33584a08": {
          "model_module": "@jupyter-widgets/base",
          "model_name": "LayoutModel",
          "model_module_version": "1.2.0",
          "state": {
            "_model_module": "@jupyter-widgets/base",
            "_model_module_version": "1.2.0",
            "_model_name": "LayoutModel",
            "_view_count": null,
            "_view_module": "@jupyter-widgets/base",
            "_view_module_version": "1.2.0",
            "_view_name": "LayoutView",
            "align_content": null,
            "align_items": null,
            "align_self": null,
            "border": null,
            "bottom": null,
            "display": null,
            "flex": null,
            "flex_flow": null,
            "grid_area": null,
            "grid_auto_columns": null,
            "grid_auto_flow": null,
            "grid_auto_rows": null,
            "grid_column": null,
            "grid_gap": null,
            "grid_row": null,
            "grid_template_areas": null,
            "grid_template_columns": null,
            "grid_template_rows": null,
            "height": null,
            "justify_content": null,
            "justify_items": null,
            "left": null,
            "margin": null,
            "max_height": null,
            "max_width": null,
            "min_height": null,
            "min_width": null,
            "object_fit": null,
            "object_position": null,
            "order": null,
            "overflow": null,
            "overflow_x": null,
            "overflow_y": null,
            "padding": null,
            "right": null,
            "top": null,
            "visibility": null,
            "width": null
          }
        },
        "8f5db99c6c79433bae8da79faa99cc80": {
          "model_module": "@jupyter-widgets/controls",
          "model_name": "DescriptionStyleModel",
          "model_module_version": "1.5.0",
          "state": {
            "_model_module": "@jupyter-widgets/controls",
            "_model_module_version": "1.5.0",
            "_model_name": "DescriptionStyleModel",
            "_view_count": null,
            "_view_module": "@jupyter-widgets/base",
            "_view_module_version": "1.2.0",
            "_view_name": "StyleView",
            "description_width": ""
          }
        },
        "68df19e92644457b9b57037e4db215ad": {
          "model_module": "@jupyter-widgets/base",
          "model_name": "LayoutModel",
          "model_module_version": "1.2.0",
          "state": {
            "_model_module": "@jupyter-widgets/base",
            "_model_module_version": "1.2.0",
            "_model_name": "LayoutModel",
            "_view_count": null,
            "_view_module": "@jupyter-widgets/base",
            "_view_module_version": "1.2.0",
            "_view_name": "LayoutView",
            "align_content": null,
            "align_items": null,
            "align_self": null,
            "border": null,
            "bottom": null,
            "display": null,
            "flex": null,
            "flex_flow": null,
            "grid_area": null,
            "grid_auto_columns": null,
            "grid_auto_flow": null,
            "grid_auto_rows": null,
            "grid_column": null,
            "grid_gap": null,
            "grid_row": null,
            "grid_template_areas": null,
            "grid_template_columns": null,
            "grid_template_rows": null,
            "height": null,
            "justify_content": null,
            "justify_items": null,
            "left": null,
            "margin": null,
            "max_height": null,
            "max_width": null,
            "min_height": null,
            "min_width": null,
            "object_fit": null,
            "object_position": null,
            "order": null,
            "overflow": null,
            "overflow_x": null,
            "overflow_y": null,
            "padding": null,
            "right": null,
            "top": null,
            "visibility": null,
            "width": null
          }
        },
        "410e8052c4744688b0274522448202a6": {
          "model_module": "@jupyter-widgets/controls",
          "model_name": "ProgressStyleModel",
          "model_module_version": "1.5.0",
          "state": {
            "_model_module": "@jupyter-widgets/controls",
            "_model_module_version": "1.5.0",
            "_model_name": "ProgressStyleModel",
            "_view_count": null,
            "_view_module": "@jupyter-widgets/base",
            "_view_module_version": "1.2.0",
            "_view_name": "StyleView",
            "bar_color": null,
            "description_width": ""
          }
        },
        "5d4b20fb965e4efe941842a2c9ea9bb5": {
          "model_module": "@jupyter-widgets/base",
          "model_name": "LayoutModel",
          "model_module_version": "1.2.0",
          "state": {
            "_model_module": "@jupyter-widgets/base",
            "_model_module_version": "1.2.0",
            "_model_name": "LayoutModel",
            "_view_count": null,
            "_view_module": "@jupyter-widgets/base",
            "_view_module_version": "1.2.0",
            "_view_name": "LayoutView",
            "align_content": null,
            "align_items": null,
            "align_self": null,
            "border": null,
            "bottom": null,
            "display": null,
            "flex": null,
            "flex_flow": null,
            "grid_area": null,
            "grid_auto_columns": null,
            "grid_auto_flow": null,
            "grid_auto_rows": null,
            "grid_column": null,
            "grid_gap": null,
            "grid_row": null,
            "grid_template_areas": null,
            "grid_template_columns": null,
            "grid_template_rows": null,
            "height": null,
            "justify_content": null,
            "justify_items": null,
            "left": null,
            "margin": null,
            "max_height": null,
            "max_width": null,
            "min_height": null,
            "min_width": null,
            "object_fit": null,
            "object_position": null,
            "order": null,
            "overflow": null,
            "overflow_x": null,
            "overflow_y": null,
            "padding": null,
            "right": null,
            "top": null,
            "visibility": null,
            "width": null
          }
        },
        "7813d3694f024eadaa7bb0fd80ac6e7f": {
          "model_module": "@jupyter-widgets/controls",
          "model_name": "DescriptionStyleModel",
          "model_module_version": "1.5.0",
          "state": {
            "_model_module": "@jupyter-widgets/controls",
            "_model_module_version": "1.5.0",
            "_model_name": "DescriptionStyleModel",
            "_view_count": null,
            "_view_module": "@jupyter-widgets/base",
            "_view_module_version": "1.2.0",
            "_view_name": "StyleView",
            "description_width": ""
          }
        }
      }
    }
  },
  "cells": [
    {
      "cell_type": "markdown",
      "metadata": {
        "id": "view-in-github",
        "colab_type": "text"
      },
      "source": [
        "<a href=\"https://colab.research.google.com/github/Joaogmr472/GLM/blob/main/C%C3%B3digo_4_Gera_NetCDF_Mensal_glm_ELISA.ipynb\" target=\"_parent\"><img src=\"https://colab.research.google.com/assets/colab-badge.svg\" alt=\"Open In Colab\"/></a>"
      ]
    },
    {
      "cell_type": "markdown",
      "source": [
        "# **GOES-16: REDE GLM (PARTE IV)**\n",
        "\n",
        "**Gera arquivo Netcdf Mensal do GLM**\n",
        "\n",
        "\n",
        "---\n",
        "**OBJETIVO:** Este Google Colab acumula os dados de flashes do GLM abordo do GOES-16 para escala **MENSAL**.\n",
        "\n",
        "**DADOS DE ENTRADA**: Dados horários de flashes do GOES-16. \n",
        "Dados de flashes horários gerados a partir dos dados do CPTEC. Estão na pasta **output** do drive.. **Nome:** flash_mensal_goes16_2020-01.nc. \n",
        "---\n",
        "**DADOS DE SAÍDA:** Arquivo netcdf de flashes por **MÊS**.\n",
        "---\n",
        "**PROCEDIMENTO REALIZADO:** Os seguintes procedimentos são realizados nesse código:\n",
        "\n",
        "Importação das bibliotecas\n",
        "\n",
        "1.   Monta o drive da pessoa\n",
        "2.   Download dos dados através do Drive\n",
        "3.   Descompacta os dados baixados\n",
        "4.   Acumula os flashes por mês\n",
        "5.   Salva os dados diário num arquivo netcdf\n",
        " \n",
        "---\n",
        "**OBSERVAÇÕES IMPORTANTES**: \n",
        "1. Mudar o caminho para seu drive. Veja em: **###MUDANÇAS AQUI####**\n",
        "---\n",
        "***Realizado por: [João G M Ribeiro](https://github.com/Joaogmr472/) e [Enrique V Mattos](https://github.com/evmpython) - 15/mar/2022*** "
      ],
      "metadata": {
        "id": "jnj0Bx6yNZBQ"
      }
    },
    {
      "cell_type": "markdown",
      "source": [
        "# **###MUDANÇAS AQUI###**"
      ],
      "metadata": {
        "id": "Hehr336l2Gqf"
      }
    },
    {
      "cell_type": "markdown",
      "source": [
        "- Insira o ano desejado"
      ],
      "metadata": {
        "id": "kxxhE38T2JMd"
      }
    },
    {
      "cell_type": "code",
      "execution_count": 1,
      "metadata": {
        "id": "iuN_QKa0036m"
      },
      "outputs": [],
      "source": [
        "ano = '2021'"
      ]
    },
    {
      "cell_type": "markdown",
      "source": [
        "- Insira o caminho do seu drive"
      ],
      "metadata": {
        "id": "YUkGvV6K2Nct"
      }
    },
    {
      "cell_type": "code",
      "source": [
        "# Pasta com os dados Horários\n",
        "path = f'/content/drive/MyDrive/JOAO_GABRIEL_MESTRADO/MESTRADO/DADOS/GLM/DADOS_horarios/{ano}/'\n",
        "\n",
        "# pasta de saída dos dados mensais\n",
        "path_mes = '/content/drive/MyDrive/JOAO_GABRIEL_MESTRADO/MESTRADO/DADOS/GLM/DADOS_mensal/'"
      ],
      "metadata": {
        "id": "vzFFCUfe1jOH"
      },
      "execution_count": 2,
      "outputs": []
    },
    {
      "cell_type": "markdown",
      "metadata": {
        "id": "2RdmOaUuQpiD"
      },
      "source": [
        "# **Importa as bibliotecas**"
      ]
    },
    {
      "cell_type": "code",
      "metadata": {
        "id": "OaKBKpAK4aff"
      },
      "source": [
        "import xarray as xr\n",
        "import time as t\n",
        "import pandas as pd\n",
        "import glob\n",
        "import numpy as np\n",
        "import os\n",
        "from time import process_time\n",
        "import calendar\n",
        "from datetime import datetime\n",
        "from tqdm.notebook import tqdm_notebook\n",
        "import warnings\n",
        "warnings.filterwarnings(\"ignore\")"
      ],
      "execution_count": 3,
      "outputs": []
    },
    {
      "cell_type": "markdown",
      "metadata": {
        "id": "vFWEpBGw6ioa"
      },
      "source": [
        "# **Monta Drive**"
      ]
    },
    {
      "cell_type": "code",
      "metadata": {
        "id": "06L2Uz5F6jdF",
        "colab": {
          "base_uri": "https://localhost:8080/"
        },
        "outputId": "d1860a06-b4d9-4f27-c6c0-19234e1e3624"
      },
      "source": [
        "# acessando o drive\n",
        "from google.colab import drive\n",
        "drive.mount('/content/drive')"
      ],
      "execution_count": 4,
      "outputs": [
        {
          "output_type": "stream",
          "name": "stdout",
          "text": [
            "Mounted at /content/drive\n"
          ]
        }
      ]
    },
    {
      "cell_type": "markdown",
      "source": [
        "#**Acumula os dados de flashes: por Mês**"
      ],
      "metadata": {
        "id": "Ud2_ve1HnRdN"
      }
    },
    {
      "cell_type": "code",
      "source": [
        "# Inicia o contador de tempo\n",
        "start_time = t.time()\n",
        "\n",
        "# Data inicial\n",
        "date_in = datetime(int(ano), 1, 1,0)\n",
        "date_ini = date_in.strftime('%Y%m%d %H') \n",
        "\n",
        "# Data final\n",
        "date_en = datetime(int(ano), 12, 31,23)\n",
        "date_end = date_en.strftime('%Y%m%d %H')\n",
        "\n",
        "# Número  de dias \n",
        "n_days = date_en - date_in\n",
        "\n",
        "print(n_days)\n",
        "print(date_in)\n",
        "print(date_ini)\n",
        "\n",
        "# Loop por mês\n",
        "for file in  tqdm_notebook(pd.date_range(date_ini, date_end, freq='M')):\n",
        "    \n",
        "  # extrai a data\n",
        "  ano = file.strftime('%Y')\n",
        "  mes = file.strftime('%m')\n",
        "  dia = file.strftime('%d')\n",
        "  hora = file.strftime('%H')\n",
        "\n",
        "  # monta lista de arquivos daquele mês\n",
        "  files = glob.glob(f'{path}flash_horario_goes16_{ano}-{mes}-{dia}-{hora}*.nc')\n",
        "    \n",
        "  # Se existe arquivos naquele mês\n",
        "  if len(files) > 0:\n",
        "\n",
        "    # leitura dos dados num único dataset\n",
        "    glm = xr.open_mfdataset(f'{path}flash_horario_goes16_{ano}-{mes}-{dia}-*.nc', parallel=True)\n",
        "\n",
        "    # reamostra para escala mensal\n",
        "    glm['flash'].resample(time='1M').sum().to_netcdf(f'{path_mes}{ano}/flash_mensal_goes16_{ano}-{mes}.nc') \n",
        "\n",
        "# Contabiliza o tempo para baixar os dados\n",
        "print('\\nTempo de concatenar os dados:', (round((t.time() - start_time),2))/60., 'minutos.')"
      ],
      "metadata": {
        "id": "9W9Qq7d_0a4f",
        "colab": {
          "base_uri": "https://localhost:8080/",
          "height": 101,
          "referenced_widgets": [
            "8a3d4ffc634e43e0be337a52be08e2b7",
            "3d0716dcd9b54f609a2c1f82e2d9d058",
            "c09397643f1c4bfcb961cf393d483b91",
            "7c84d1141c404291914855fed6ee65eb",
            "7bbf1e345b7d420cbc60db066e20c503",
            "2b337979eeb843e59406752a33584a08",
            "8f5db99c6c79433bae8da79faa99cc80",
            "68df19e92644457b9b57037e4db215ad",
            "410e8052c4744688b0274522448202a6",
            "5d4b20fb965e4efe941842a2c9ea9bb5",
            "7813d3694f024eadaa7bb0fd80ac6e7f"
          ]
        },
        "outputId": "da3f753f-5302-4e3f-867d-3b498564e2a4"
      },
      "execution_count": null,
      "outputs": [
        {
          "output_type": "stream",
          "name": "stdout",
          "text": [
            "364 days, 23:00:00\n",
            "2021-01-01 00:00:00\n",
            "20210101 00\n"
          ]
        },
        {
          "output_type": "display_data",
          "data": {
            "text/plain": [
              "  0%|          | 0/12 [00:00<?, ?it/s]"
            ],
            "application/vnd.jupyter.widget-view+json": {
              "version_major": 2,
              "version_minor": 0,
              "model_id": "8a3d4ffc634e43e0be337a52be08e2b7"
            }
          },
          "metadata": {}
        }
      ]
    },
    {
      "cell_type": "code",
      "source": [
        ""
      ],
      "metadata": {
        "id": "IFQv-c9bVmFW"
      },
      "execution_count": null,
      "outputs": []
    }
  ]
}