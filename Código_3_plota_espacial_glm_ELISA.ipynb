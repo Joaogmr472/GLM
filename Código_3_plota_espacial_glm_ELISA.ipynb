{
  "nbformat": 4,
  "nbformat_minor": 0,
  "metadata": {
    "colab": {
      "name": "Código_3_plota_espacial_glm_ELISA.ipynb",
      "provenance": [],
      "collapsed_sections": [
        "Hehr336l2Gqf",
        "vCm-gYQfQdOz",
        "2RdmOaUuQpiD",
        "vFWEpBGw6ioa",
        "OIZx59kLQgUl",
        "T_Utbq0yQv2Q",
        "ubTAf5Gg9kcs",
        "4vn-jBIiz2hU",
        "Ud2_ve1HnRdN",
        "-HqX1Gn-zyyG"
      ],
      "include_colab_link": true
    },
    "kernelspec": {
      "name": "python3",
      "display_name": "Python 3"
    },
    "language_info": {
      "name": "python"
    }
  },
  "cells": [
    {
      "cell_type": "markdown",
      "metadata": {
        "id": "view-in-github",
        "colab_type": "text"
      },
      "source": [
        "<a href=\"https://colab.research.google.com/github/Joaogmr472/GLM/blob/main/C%C3%B3digo_3_plota_espacial_glm_ELISA.ipynb\" target=\"_parent\"><img src=\"https://colab.research.google.com/assets/colab-badge.svg\" alt=\"Open In Colab\"/></a>"
      ]
    },
    {
      "cell_type": "markdown",
      "source": [
        "# **GOES-16: REDE GLM (PARTE III)**\n",
        "**Plota mapas de flashes do GLM (GOES-16) para o Brasil**\n",
        "\n",
        "---\n",
        "**OBJETIVO:** Este Google Colab plota mapas anual e mensal para o Brasil de flashes do GLM.\n",
        "\n",
        "**DADOS DE ENTRADA**: Dados de flashes do GOES-16. \n",
        "Dados de flashes horários gerados a partir dos dados do CPTEC. Estão na pasta **output** do drive.. **Nome:** flash_diario_goes16_2020-01-03.nc. \n",
        "---\n",
        "**DADOS DE SAÍDA:**\n",
        "1.   Mapa **anual** de flash. \n",
        "2.   Mapa **mensal** de flash. \n",
        "3.   Mapa **sazonal** de flash. \n",
        "---\n",
        "**PROCEDIMENTO REALIZADO:** Os seguintes procedimentos são realizados nesse código:\n",
        "1.   Instalação de bibliotecas\n",
        "2.   Importação das bibliotecas\n",
        "3.   Monta o drive da pessoa\n",
        "4.   Download dos dados do Diego, através do Dropbox\n",
        "5.   Descompacta os dados baixados\n",
        "6.   Acumula os flashes por dia\n",
        "7.   Salva os dados diário num arquivo netcdf\n",
        " \n",
        "---\n",
        "**OBSERVAÇÕES IMPORTANTES**: \n",
        "1. Mudar o caminho para seu drive. Veja em: **###MUDANÇAS AQUI####**\n",
        "---\n",
        "***Realizado por: [João G M Ribeiro](https://github.com/Joaogmr472/) e [Enrique V Mattos](https://github.com/evmpython) - 07/mar/2022*** "
      ],
      "metadata": {
        "id": "jnj0Bx6yNZBQ"
      }
    },
    {
      "cell_type": "markdown",
      "source": [
        "# **###MUDANÇAS AQUI###**"
      ],
      "metadata": {
        "id": "Hehr336l2Gqf"
      }
    },
    {
      "cell_type": "markdown",
      "source": [
        "- Insira o ano desejado"
      ],
      "metadata": {
        "id": "kxxhE38T2JMd"
      }
    },
    {
      "cell_type": "code",
      "execution_count": null,
      "metadata": {
        "id": "iuN_QKa0036m"
      },
      "outputs": [],
      "source": [
        "ano = '2021'"
      ]
    },
    {
      "cell_type": "markdown",
      "source": [
        "- Insira o caminho do seu drive"
      ],
      "metadata": {
        "id": "YUkGvV6K2Nct"
      }
    },
    {
      "cell_type": "code",
      "source": [
        "# Pasta com os dados Horários\n",
        "path = f'/content/drive/MyDrive/JOAO_GABRIEL_MESTRADO/MESTRADO/DADOS/GLM/DADOS_horarios/{ano}/'\n",
        "# Pasta para a Saída das Figuras\n",
        "path_fig = f'/content/drive/MyDrive/JOAO_GABRIEL_MESTRADO/MESTRADO/DADOS/GLM/figuras/'"
      ],
      "metadata": {
        "id": "vzFFCUfe1jOH"
      },
      "execution_count": null,
      "outputs": []
    },
    {
      "cell_type": "markdown",
      "metadata": {
        "id": "vCm-gYQfQdOz"
      },
      "source": [
        "# **Instalando as bibliotecas**"
      ]
    },
    {
      "cell_type": "code",
      "metadata": {
        "colab": {
          "base_uri": "https://localhost:8080/"
        },
        "id": "YI9bYO6DPe99",
        "outputId": "d4a8c4cf-38f4-47a0-bfd2-48a9271ecef3"
      },
      "source": [
        "# Instalando o cartopy (usado para gerar Mapas)\n",
        "!apt-get install libproj-dev proj-data proj-bin\n",
        "!apt-get install libgeos-dev\n",
        "!pip install --no-binary shapely shapely --force\n",
        "!pip install cartopy\n",
        "\n",
        "# Instalando o proplot (usado para gerar Mapas também)\n",
        "!pip install proplot==0.6.4\n",
        "\n",
        "# Intalando pacote que descompacta arquivos .rar\n",
        "!pip install patool pyunpack\n",
        "\n",
        "# Instalando o Salem (usado para mascarar regiões)\n",
        "!pip install rasterio\n",
        "!pip install pyproj\n",
        "!pip install geopandas\n",
        "!pip install salem\n",
        "print('\\n')"
      ],
      "execution_count": null,
      "outputs": [
        {
          "output_type": "stream",
          "name": "stdout",
          "text": [
            "Reading package lists... Done\n",
            "Building dependency tree       \n",
            "Reading state information... Done\n",
            "libproj-dev is already the newest version (4.9.3-2).\n",
            "libproj-dev set to manually installed.\n",
            "proj-data is already the newest version (4.9.3-2).\n",
            "proj-data set to manually installed.\n",
            "The following package was automatically installed and is no longer required:\n",
            "  libnvidia-common-470\n",
            "Use 'apt autoremove' to remove it.\n",
            "The following NEW packages will be installed:\n",
            "  proj-bin\n",
            "0 upgraded, 1 newly installed, 0 to remove and 39 not upgraded.\n",
            "Need to get 32.3 kB of archives.\n",
            "After this operation, 110 kB of additional disk space will be used.\n",
            "Get:1 http://archive.ubuntu.com/ubuntu bionic/universe amd64 proj-bin amd64 4.9.3-2 [32.3 kB]\n",
            "Fetched 32.3 kB in 1s (46.5 kB/s)\n",
            "Selecting previously unselected package proj-bin.\n",
            "(Reading database ... 155320 files and directories currently installed.)\n",
            "Preparing to unpack .../proj-bin_4.9.3-2_amd64.deb ...\n",
            "Unpacking proj-bin (4.9.3-2) ...\n",
            "Setting up proj-bin (4.9.3-2) ...\n",
            "Processing triggers for man-db (2.8.3-2ubuntu0.1) ...\n",
            "Reading package lists... Done\n",
            "Building dependency tree       \n",
            "Reading state information... Done\n",
            "libgeos-dev is already the newest version (3.6.2-1build2).\n",
            "libgeos-dev set to manually installed.\n",
            "The following package was automatically installed and is no longer required:\n",
            "  libnvidia-common-470\n",
            "Use 'apt autoremove' to remove it.\n",
            "0 upgraded, 0 newly installed, 0 to remove and 39 not upgraded.\n",
            "Collecting shapely\n",
            "  Downloading Shapely-1.8.1.post1.tar.gz (198 kB)\n",
            "\u001b[K     |████████████████████████████████| 198 kB 4.3 MB/s \n",
            "\u001b[?25h  Installing build dependencies ... \u001b[?25l\u001b[?25hdone\n",
            "  Getting requirements to build wheel ... \u001b[?25l\u001b[?25hdone\n",
            "    Preparing wheel metadata ... \u001b[?25l\u001b[?25hdone\n",
            "Building wheels for collected packages: shapely\n",
            "  Building wheel for shapely (PEP 517) ... \u001b[?25l\u001b[?25hdone\n",
            "  Created wheel for shapely: filename=Shapely-1.8.1.post1-cp37-cp37m-linux_x86_64.whl size=665647 sha256=f8ba70c2d4327aded19bd21d2b160d805c11f7d88857e20565729e20a702ad71\n",
            "  Stored in directory: /root/.cache/pip/wheels/ea/8d/2f/ab748b8a432b3c6cd72e751b3bca17c5a9ed4538b1e78467e6\n",
            "Successfully built shapely\n",
            "Installing collected packages: shapely\n",
            "  Attempting uninstall: shapely\n",
            "    Found existing installation: Shapely 1.8.1.post1\n",
            "    Uninstalling Shapely-1.8.1.post1:\n",
            "      Successfully uninstalled Shapely-1.8.1.post1\n",
            "\u001b[31mERROR: pip's dependency resolver does not currently take into account all the packages that are installed. This behaviour is the source of the following dependency conflicts.\n",
            "albumentations 0.1.12 requires imgaug<0.2.7,>=0.2.5, but you have imgaug 0.2.9 which is incompatible.\u001b[0m\n",
            "Successfully installed shapely-1.8.1.post1\n",
            "Collecting cartopy\n",
            "  Downloading Cartopy-0.20.2.tar.gz (10.8 MB)\n",
            "\u001b[K     |████████████████████████████████| 10.8 MB 4.2 MB/s \n",
            "\u001b[?25h  Installing build dependencies ... \u001b[?25l\u001b[?25hdone\n",
            "  Getting requirements to build wheel ... \u001b[?25l\u001b[?25herror\n",
            "\u001b[33mWARNING: Discarding https://files.pythonhosted.org/packages/f6/55/1e1c737dc9436b320deead73d1c455ddbb74b8b6992081863492f6f6378a/Cartopy-0.20.2.tar.gz#sha256=4d08c198ecaa50a6a6b109d0f14c070e813defc046a83ac5d7ab494f85599e35 (from https://pypi.org/simple/cartopy/) (requires-python:>=3.7). Command errored out with exit status 1: /usr/bin/python3 /usr/local/lib/python3.7/dist-packages/pip/_vendor/pep517/in_process/_in_process.py get_requires_for_build_wheel /tmp/tmpy6e162ou Check the logs for full command output.\u001b[0m\n",
            "  Downloading Cartopy-0.20.1.tar.gz (10.8 MB)\n",
            "\u001b[K     |████████████████████████████████| 10.8 MB 31.1 MB/s \n",
            "\u001b[?25h  Installing build dependencies ... \u001b[?25l\u001b[?25hdone\n",
            "  Getting requirements to build wheel ... \u001b[?25l\u001b[?25herror\n",
            "\u001b[33mWARNING: Discarding https://files.pythonhosted.org/packages/fc/59/aa52698e3838f4cd0e7eaa75bd86837e9e0b05041dbdaee3cda2fffced06/Cartopy-0.20.1.tar.gz#sha256=91f87b130e2574547a20cd634498df97d797abd12dcfd0235bc0cdbcec8b05e3 (from https://pypi.org/simple/cartopy/) (requires-python:>=3.7). Command errored out with exit status 1: /usr/bin/python3 /usr/local/lib/python3.7/dist-packages/pip/_vendor/pep517/in_process/_in_process.py get_requires_for_build_wheel /tmp/tmph536eovn Check the logs for full command output.\u001b[0m\n",
            "  Downloading Cartopy-0.20.0.tar.gz (10.8 MB)\n",
            "\u001b[K     |████████████████████████████████| 10.8 MB 33.4 MB/s \n",
            "\u001b[?25h  Installing build dependencies ... \u001b[?25l\u001b[?25hdone\n",
            "  Getting requirements to build wheel ... \u001b[?25l\u001b[?25herror\n",
            "\u001b[33mWARNING: Discarding https://files.pythonhosted.org/packages/0f/c0/58453b036e79046d211f083880d58dcce787e7e07647ac25dc46c6555099/Cartopy-0.20.0.tar.gz#sha256=eae58aff26806e63cf115b2bce9477cedc4aa9f578c5e477b2c25cfa404f2b7a (from https://pypi.org/simple/cartopy/) (requires-python:>=3.7). Command errored out with exit status 1: /usr/bin/python3 /usr/local/lib/python3.7/dist-packages/pip/_vendor/pep517/in_process/_in_process.py get_requires_for_build_wheel /tmp/tmp_sbi1x9o Check the logs for full command output.\u001b[0m\n",
            "  Downloading Cartopy-0.19.0.post1.tar.gz (12.1 MB)\n",
            "\u001b[K     |████████████████████████████████| 12.1 MB 39.7 MB/s \n",
            "\u001b[?25h  Installing build dependencies ... \u001b[?25l\u001b[?25hdone\n",
            "  Getting requirements to build wheel ... \u001b[?25l\u001b[?25hdone\n",
            "    Preparing wheel metadata ... \u001b[?25l\u001b[?25hdone\n",
            "Requirement already satisfied: numpy>=1.13.3 in /usr/local/lib/python3.7/dist-packages (from cartopy) (1.21.5)\n",
            "Collecting pyshp>=2\n",
            "  Downloading pyshp-2.2.0-py3-none-any.whl (44 kB)\n",
            "\u001b[K     |████████████████████████████████| 44 kB 2.7 MB/s \n",
            "\u001b[?25hRequirement already satisfied: shapely>=1.5.6 in /usr/local/lib/python3.7/dist-packages (from cartopy) (1.8.1.post1)\n",
            "Building wheels for collected packages: cartopy\n",
            "  Building wheel for cartopy (PEP 517) ... \u001b[?25l\u001b[?25hdone\n",
            "  Created wheel for cartopy: filename=Cartopy-0.19.0.post1-cp37-cp37m-linux_x86_64.whl size=12516291 sha256=8e9a65c83c959018d573f07311674ac920dff983a1de6ba96d3329104dfda5d4\n",
            "  Stored in directory: /root/.cache/pip/wheels/98/01/f7/bd10aeb96fe4b518cde5f7c4f5e12c7202f85b7353a5017847\n",
            "Successfully built cartopy\n",
            "Installing collected packages: pyshp, cartopy\n",
            "Successfully installed cartopy-0.19.0.post1 pyshp-2.2.0\n",
            "Collecting proplot==0.6.4\n",
            "  Downloading proplot-0.6.4-py2.py3-none-any.whl (7.9 MB)\n",
            "\u001b[K     |████████████████████████████████| 7.9 MB 4.4 MB/s \n",
            "\u001b[?25hRequirement already satisfied: matplotlib in /usr/local/lib/python3.7/dist-packages (from proplot==0.6.4) (3.2.2)\n",
            "Requirement already satisfied: kiwisolver>=1.0.1 in /usr/local/lib/python3.7/dist-packages (from matplotlib->proplot==0.6.4) (1.3.2)\n",
            "Requirement already satisfied: pyparsing!=2.0.4,!=2.1.2,!=2.1.6,>=2.0.1 in /usr/local/lib/python3.7/dist-packages (from matplotlib->proplot==0.6.4) (3.0.7)\n",
            "Requirement already satisfied: python-dateutil>=2.1 in /usr/local/lib/python3.7/dist-packages (from matplotlib->proplot==0.6.4) (2.8.2)\n",
            "Requirement already satisfied: cycler>=0.10 in /usr/local/lib/python3.7/dist-packages (from matplotlib->proplot==0.6.4) (0.11.0)\n",
            "Requirement already satisfied: numpy>=1.11 in /usr/local/lib/python3.7/dist-packages (from matplotlib->proplot==0.6.4) (1.21.5)\n",
            "Requirement already satisfied: six>=1.5 in /usr/local/lib/python3.7/dist-packages (from python-dateutil>=2.1->matplotlib->proplot==0.6.4) (1.15.0)\n",
            "Installing collected packages: proplot\n",
            "Successfully installed proplot-0.6.4\n",
            "Collecting patool\n",
            "  Downloading patool-1.12-py2.py3-none-any.whl (77 kB)\n",
            "\u001b[K     |████████████████████████████████| 77 kB 2.9 MB/s \n",
            "\u001b[?25hCollecting pyunpack\n",
            "  Downloading pyunpack-0.2.2-py2.py3-none-any.whl (3.8 kB)\n",
            "Collecting entrypoint2\n",
            "  Downloading entrypoint2-1.0-py3-none-any.whl (9.8 kB)\n",
            "Collecting easyprocess\n",
            "  Downloading EasyProcess-1.1-py3-none-any.whl (8.7 kB)\n",
            "Installing collected packages: entrypoint2, easyprocess, pyunpack, patool\n",
            "Successfully installed easyprocess-1.1 entrypoint2-1.0 patool-1.12 pyunpack-0.2.2\n",
            "Collecting rasterio\n",
            "  Downloading rasterio-1.2.10-cp37-cp37m-manylinux1_x86_64.whl (19.3 MB)\n",
            "\u001b[K     |████████████████████████████████| 19.3 MB 1.2 MB/s \n",
            "\u001b[?25hRequirement already satisfied: numpy in /usr/local/lib/python3.7/dist-packages (from rasterio) (1.21.5)\n",
            "Collecting snuggs>=1.4.1\n",
            "  Downloading snuggs-1.4.7-py3-none-any.whl (5.4 kB)\n",
            "Collecting click-plugins\n",
            "  Downloading click_plugins-1.1.1-py2.py3-none-any.whl (7.5 kB)\n",
            "Requirement already satisfied: certifi in /usr/local/lib/python3.7/dist-packages (from rasterio) (2021.10.8)\n",
            "Requirement already satisfied: attrs in /usr/local/lib/python3.7/dist-packages (from rasterio) (21.4.0)\n",
            "Collecting cligj>=0.5\n",
            "  Downloading cligj-0.7.2-py3-none-any.whl (7.1 kB)\n",
            "Requirement already satisfied: click>=4.0 in /usr/local/lib/python3.7/dist-packages (from rasterio) (7.1.2)\n",
            "Requirement already satisfied: setuptools in /usr/local/lib/python3.7/dist-packages (from rasterio) (57.4.0)\n",
            "Collecting affine\n",
            "  Downloading affine-2.3.0-py2.py3-none-any.whl (15 kB)\n",
            "Requirement already satisfied: pyparsing>=2.1.6 in /usr/local/lib/python3.7/dist-packages (from snuggs>=1.4.1->rasterio) (3.0.7)\n",
            "Installing collected packages: snuggs, cligj, click-plugins, affine, rasterio\n",
            "Successfully installed affine-2.3.0 click-plugins-1.1.1 cligj-0.7.2 rasterio-1.2.10 snuggs-1.4.7\n",
            "Collecting pyproj\n",
            "  Downloading pyproj-3.2.1-cp37-cp37m-manylinux2010_x86_64.whl (6.3 MB)\n",
            "\u001b[K     |████████████████████████████████| 6.3 MB 4.3 MB/s \n",
            "\u001b[?25hRequirement already satisfied: certifi in /usr/local/lib/python3.7/dist-packages (from pyproj) (2021.10.8)\n",
            "Installing collected packages: pyproj\n",
            "Successfully installed pyproj-3.2.1\n",
            "Collecting geopandas\n",
            "  Downloading geopandas-0.10.2-py2.py3-none-any.whl (1.0 MB)\n",
            "\u001b[K     |████████████████████████████████| 1.0 MB 4.0 MB/s \n",
            "\u001b[?25hRequirement already satisfied: pyproj>=2.2.0 in /usr/local/lib/python3.7/dist-packages (from geopandas) (3.2.1)\n",
            "Collecting fiona>=1.8\n",
            "  Downloading Fiona-1.8.21-cp37-cp37m-manylinux2014_x86_64.whl (16.7 MB)\n",
            "\u001b[K     |████████████████████████████████| 16.7 MB 457 kB/s \n",
            "\u001b[?25hRequirement already satisfied: shapely>=1.6 in /usr/local/lib/python3.7/dist-packages (from geopandas) (1.8.1.post1)\n",
            "Requirement already satisfied: pandas>=0.25.0 in /usr/local/lib/python3.7/dist-packages (from geopandas) (1.3.5)\n",
            "Requirement already satisfied: click-plugins>=1.0 in /usr/local/lib/python3.7/dist-packages (from fiona>=1.8->geopandas) (1.1.1)\n",
            "Requirement already satisfied: cligj>=0.5 in /usr/local/lib/python3.7/dist-packages (from fiona>=1.8->geopandas) (0.7.2)\n",
            "Requirement already satisfied: setuptools in /usr/local/lib/python3.7/dist-packages (from fiona>=1.8->geopandas) (57.4.0)\n",
            "Requirement already satisfied: click>=4.0 in /usr/local/lib/python3.7/dist-packages (from fiona>=1.8->geopandas) (7.1.2)\n",
            "Requirement already satisfied: six>=1.7 in /usr/local/lib/python3.7/dist-packages (from fiona>=1.8->geopandas) (1.15.0)\n",
            "Collecting munch\n",
            "  Downloading munch-2.5.0-py2.py3-none-any.whl (10 kB)\n",
            "Requirement already satisfied: attrs>=17 in /usr/local/lib/python3.7/dist-packages (from fiona>=1.8->geopandas) (21.4.0)\n",
            "Requirement already satisfied: certifi in /usr/local/lib/python3.7/dist-packages (from fiona>=1.8->geopandas) (2021.10.8)\n",
            "Requirement already satisfied: python-dateutil>=2.7.3 in /usr/local/lib/python3.7/dist-packages (from pandas>=0.25.0->geopandas) (2.8.2)\n",
            "Requirement already satisfied: numpy>=1.17.3 in /usr/local/lib/python3.7/dist-packages (from pandas>=0.25.0->geopandas) (1.21.5)\n",
            "Requirement already satisfied: pytz>=2017.3 in /usr/local/lib/python3.7/dist-packages (from pandas>=0.25.0->geopandas) (2018.9)\n",
            "Installing collected packages: munch, fiona, geopandas\n",
            "Successfully installed fiona-1.8.21 geopandas-0.10.2 munch-2.5.0\n",
            "Collecting salem\n",
            "  Downloading salem-0.3.7-py3-none-any.whl (85 kB)\n",
            "\u001b[K     |████████████████████████████████| 85 kB 2.6 MB/s \n",
            "\u001b[?25hInstalling collected packages: salem\n",
            "Successfully installed salem-0.3.7\n",
            "\n",
            "\n"
          ]
        }
      ]
    },
    {
      "cell_type": "markdown",
      "metadata": {
        "id": "2RdmOaUuQpiD"
      },
      "source": [
        "# **Importa as bibliotecas**"
      ]
    },
    {
      "cell_type": "code",
      "metadata": {
        "id": "OaKBKpAK4aff",
        "colab": {
          "base_uri": "https://localhost:8080/"
        },
        "outputId": "785f75bd-3ddd-4ddb-c05a-021a9ab70aa3"
      },
      "source": [
        "import xarray as xr\n",
        "import proplot as plot\n",
        "import time as t\n",
        "import pandas as pd\n",
        "from datetime import datetime\n",
        "from tqdm.notebook import tqdm_notebook\n",
        "import glob\n",
        "import numpy as np\n",
        "import cartopy.crs as ccrs\n",
        "import cartopy.io.shapereader as shpreader\n",
        "from pyunpack import Archive\n",
        "import os\n",
        "from time import process_time\n",
        "import calendar\n",
        "import salem\n",
        "from tqdm.notebook import tqdm_notebook\n",
        "\n",
        "import warnings\n",
        "warnings.filterwarnings(\"ignore\")"
      ],
      "execution_count": null,
      "outputs": [
        {
          "output_type": "stream",
          "name": "stderr",
          "text": [
            "/usr/local/lib/python3.7/dist-packages/proplot/config.py:1454: ProPlotWarning: Rebuilding font cache.\n"
          ]
        },
        {
          "output_type": "stream",
          "name": "stdout",
          "text": [
            "Downloading salem-sample-data...\n"
          ]
        }
      ]
    },
    {
      "cell_type": "markdown",
      "metadata": {
        "id": "vFWEpBGw6ioa"
      },
      "source": [
        "# **Monta Drive**"
      ]
    },
    {
      "cell_type": "code",
      "metadata": {
        "id": "06L2Uz5F6jdF"
      },
      "source": [
        "# acessando o drive\n",
        "from google.colab import drive\n",
        "drive.mount('/content/drive')"
      ],
      "execution_count": null,
      "outputs": []
    },
    {
      "cell_type": "markdown",
      "metadata": {
        "id": "OIZx59kLQgUl"
      },
      "source": [
        "# **Download de informações auxiliares**"
      ]
    },
    {
      "cell_type": "code",
      "metadata": {
        "id": "NROlMYU7Qkev"
      },
      "source": [
        "# Criando os diretórios de saida\n",
        "os.makedirs(f'{path}output/figuras', exist_ok=True)\n",
        "\n",
        "# Baixando os arquivos de shapefile de alguns estados\n",
        "!wget -c https://geoftp.ibge.gov.br/organizacao_do_territorio/malhas_territoriais/malhas_municipais/municipio_2020/Brasil/BR/BR_UF_2020.zip\n",
        "\n",
        "!unzip -o /content/BR_UF_2020.zip\n"
      ],
      "execution_count": null,
      "outputs": []
    },
    {
      "cell_type": "markdown",
      "metadata": {
        "id": "T_Utbq0yQv2Q"
      },
      "source": [
        "# **Importa funções**"
      ]
    },
    {
      "cell_type": "code",
      "metadata": {
        "id": "OmC0BrQTQyML"
      },
      "source": [
        "#----------------------------------------------------------------------------------- \n",
        "# Função que plota por Estado \n",
        "#----------------------------------------------------------------------------------- \n",
        "def evm_plot_states():\n",
        "    shapefile = list(shpreader.Reader('/content/BR_UF_2020.shp').geometries()) ; ax.add_geometries(shapefile, ccrs.PlateCarree(), edgecolor='black',facecolor='none', linewidth=1.7)   \n"
      ],
      "execution_count": null,
      "outputs": []
    },
    {
      "cell_type": "markdown",
      "source": [
        "# **Latitudes e Longitudes limitantes da América do Sul**"
      ],
      "metadata": {
        "id": "ubTAf5Gg9kcs"
      }
    },
    {
      "cell_type": "code",
      "source": [
        "# lats/lons do quadrado limitando a América do Sul\n",
        "latmin, latmax, lonmin, lonmax = -60, 15, -90, -30\n",
        "\n",
        "# gera a mascara para ro Brasil\n",
        "shp_br = salem.read_shapefile(f'{path_fig}brazil-coastline/brazil_coastline.shp')\n",
        "#shp_NEB = shp.loc[shp['nome'] == 'Nordeste']"
      ],
      "metadata": {
        "id": "4JeEd9rP-_LP"
      },
      "execution_count": null,
      "outputs": []
    },
    {
      "cell_type": "markdown",
      "source": [
        "**Acumula os dados de flashes por ano**"
      ],
      "metadata": {
        "id": "k3CFDdXaPstn"
      }
    },
    {
      "cell_type": "markdown",
      "source": [
        "# **Plota a Figura Mensal**"
      ],
      "metadata": {
        "id": "4vn-jBIiz2hU"
      }
    },
    {
      "cell_type": "code",
      "source": [
        "# cria a moldura da figura   \n",
        "fig, ax = plot.subplots(axwidth=3, axheight=3, ncols=3, nrows=4, tight=True, proj='pcarree')\n",
        "\n",
        "# formatação dos eixos\n",
        "ax.format(coast=True, borders=True, innerborders=True, labels=True, latlines=5, lonlines=3,\n",
        "          suptitle=f'Monthly Flashes GOES-16 (GLM): {ano}', \n",
        "          latlim=(latmin, latmax), lonlim=(lonmin, lonmax), fontsize=11, \n",
        "          abc='(A)', small='25px', large='25px')\n",
        "\n",
        "# plota estados\n",
        "evm_plot_states()\n",
        "\n",
        "# loop dos meses\n",
        "\n",
        "soma_mens = np.zeros((12,1664,1664))\n",
        "for i in range(0, 12):\n",
        "  \n",
        "  mes = str(i+1).zfill(2)\n",
        "  \n",
        "  print('PROCESSANDO MÊS --->>>', mes)\n",
        "    \n",
        "  # loop dos arquivos daquele mês\n",
        "  soma_mes = np.zeros((1664,1664))\n",
        "  files = glob.glob(f'{path}flash_horario_goes16_{ano}-{mes}*nc')\n",
        "  files = sorted(files)\n",
        "  for file in tqdm_notebook(files):\n",
        "        \n",
        "    # leitura do arquivo netcdf\n",
        "    dados = xr.open_dataset(file)   \n",
        "\n",
        "    # somando os flashes                   \n",
        "    soma_mes = soma_mes + dados['flash'][0,:,:]\n",
        "        \n",
        "  # plota figura\n",
        "  if i == 0: \n",
        "    #.salem.roi(shape=shp_br)\n",
        "    map1 = ax[i].contourf(soma_mes['lon'], soma_mes['lat'], (soma_mes/64.), cmap='jet', levels=plot.arange(0., 10, 1))\n",
        "  else:\n",
        "    ax[i].contourf(soma_mes['lon'], soma_mes['lat'], (soma_mes/64.), cmap='jet', levels=plot.arange(0., 10, 1)) \n",
        "        \n",
        "  # plota titulo de cada figura\n",
        "  ax[i].format(title=calendar.month_name[int(mes)])\n",
        "\n",
        "  soma_mens[i,:,:] = soma_mes[:,:] \n",
        "\n",
        "# plota barra de cores da figura\n",
        "fig.colorbar(map1, loc='b', label='Flash Rate Density $(fl.km^{-2}.month^{-1})$', ticks=2, ticklabelsize=20, labelsize=20, space=0.4, length=0.60, width=0.3)\n",
        "\n",
        "# salva figura\n",
        "fig.save(f'{path_fig}Fig2_glm_{ano}_mensal.jpg', dpi=300) "
      ],
      "metadata": {
        "id": "KKFgYuwqyKH1"
      },
      "execution_count": null,
      "outputs": []
    },
    {
      "cell_type": "markdown",
      "source": [
        "#**Plota a Figura Anual**"
      ],
      "metadata": {
        "id": "Ud2_ve1HnRdN"
      }
    },
    {
      "cell_type": "markdown",
      "source": [
        "## Cria o Acumulado Anual"
      ],
      "metadata": {
        "id": "-HqX1Gn-zyyG"
      }
    },
    {
      "cell_type": "code",
      "source": [
        "soma_mens"
      ],
      "metadata": {
        "id": "JVhhBJnnuxLe"
      },
      "execution_count": null,
      "outputs": []
    },
    {
      "cell_type": "code",
      "source": [
        ""
      ],
      "metadata": {
        "id": "Ib87x0cBuxI9"
      },
      "execution_count": null,
      "outputs": []
    },
    {
      "cell_type": "code",
      "source": [
        "soma_anual = np.zeros((1664,1664))\n",
        "for file in tqdm_notebook(glob.glob(f'{path}flash_horario_goes16_{ano}*nc')):\n",
        "  dset = xr.open_dataset(file)\n",
        "  soma_anual = soma_anual + dset['flash'][0,:,:]"
      ],
      "metadata": {
        "id": "8jscs98YyKKu"
      },
      "execution_count": null,
      "outputs": []
    },
    {
      "cell_type": "code",
      "source": [
        "files = glob.glob(f'{path}flash_horario_goes16_{ano}*nc')\n",
        "dset = xr.open_dataset(files[0])\n",
        "dset"
      ],
      "metadata": {
        "id": "ivULDYImBbYJ"
      },
      "execution_count": null,
      "outputs": []
    },
    {
      "cell_type": "markdown",
      "source": [
        "## Plota a Figura"
      ],
      "metadata": {
        "id": "ytq1Nxht0cMg"
      }
    },
    {
      "cell_type": "code",
      "source": [
        "# Plotando a figura\n",
        "fig, ax = plot.subplots(figsize=(12,12), tight=True, proj='pcarree')\n",
        "\n",
        "# define formato da figura\n",
        "ax.format(coast=False, borders=False, innerborders=False, labels=True, latlines=5, lonlines=5,\n",
        "          latlim=(latmin, latmax), lonlim=(lonmin, lonmax), fontsize=11, \n",
        "          suptitle=f'Anual Flashes GOES-16 (GLM): {ano}', small='20px', large='20px', abc=True)\n",
        "\n",
        "# plota contornos dos Estados\n",
        "evm_plot_states()\n",
        "\n",
        "# Plota Figura Figura\n",
        "map = ax.contourf(soma_anual['lon'], soma_anual['lat'], (soma_anual/64.).salem.roi(shape=shp_NEB), cmap='jet', vmax=30)\n",
        "\n",
        "# plota barra de cores da figura\n",
        "fig.colorbar(map, loc='b', label='Flash Rate Density $(fl.km^{-2}.year^{-1})$', ticks=5, ticklabelsize=13, labelsize=15, space=0.4, length=0.93)\n",
        "\n",
        "# salva figura\n",
        "fig.save(f'{path_fig}/Fig1_glm_{ano}_anual.jpg', dpi=300)"
      ],
      "metadata": {
        "id": "9W9Qq7d_0a4f"
      },
      "execution_count": null,
      "outputs": []
    }
  ]
}