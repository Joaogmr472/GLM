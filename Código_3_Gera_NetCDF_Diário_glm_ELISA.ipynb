{
  "cells": [
    {
      "cell_type": "markdown",
      "metadata": {
        "id": "view-in-github",
        "colab_type": "text"
      },
      "source": [
        "<a href=\"https://colab.research.google.com/github/Joaogmr472/GLM/blob/main/C%C3%B3digo_3_Gera_NetCDF_Di%C3%A1rio_glm_ELISA.ipynb\" target=\"_parent\"><img src=\"https://colab.research.google.com/assets/colab-badge.svg\" alt=\"Open In Colab\"/></a>"
      ]
    },
    {
      "cell_type": "markdown",
      "metadata": {
        "id": "jnj0Bx6yNZBQ"
      },
      "source": [
        "# **GOES-16: REDE GLM (PARTE III)**\n",
        "\n",
        "**Gera arquivo Netcdf Diário do GLM**\n",
        "\n",
        "\n",
        "---\n",
        "**OBJETIVO:** Este Google Colab acumula os dados de flashes do GLM abordo do GOES-16 para escala **DIÁRIA**.\n",
        "\n",
        "**DADOS DE ENTRADA**: Dados horários de flashes do GOES-16. \n",
        "Dados de flashes horários gerados a partir dos dados do CPTEC. Estão na pasta **output** do drive.. **Nome:** flash_diario_goes16_2020-01-03.nc. \n",
        "---\n",
        "**DADOS DE SAÍDA:** Arquivo netcdf de flashes por **DIA**.\n",
        "---\n",
        "**PROCEDIMENTO REALIZADO:** Os seguintes procedimentos são realizados nesse código:\n",
        "\n",
        "Importação das bibliotecas\n",
        "\n",
        "1.   Monta o drive da pessoa\n",
        "2.   Download dos dados através do Drive\n",
        "3.   Descompacta os dados baixados\n",
        "4.   Acumula os flashes por dia\n",
        "5.   Salva os dados diário num arquivo netcdf\n",
        " \n",
        "---\n",
        "**OBSERVAÇÕES IMPORTANTES**: \n",
        "1. Mudar o caminho para seu drive. Veja em: **###MUDANÇAS AQUI####**\n",
        "---\n",
        "***Realizado por: [João G M Ribeiro](https://github.com/Joaogmr472/) e [Enrique V Mattos](https://github.com/evmpython) - 15/mar/2022*** "
      ]
    },
    {
      "cell_type": "markdown",
      "metadata": {
        "id": "Hehr336l2Gqf"
      },
      "source": [
        "# **###MUDANÇAS AQUI###**"
      ]
    },
    {
      "cell_type": "markdown",
      "metadata": {
        "id": "kxxhE38T2JMd"
      },
      "source": [
        "- Insira o ano desejado"
      ]
    },
    {
      "cell_type": "code",
      "execution_count": 1,
      "metadata": {
        "id": "iuN_QKa0036m"
      },
      "outputs": [],
      "source": [
        "ano = '2021'"
      ]
    },
    {
      "cell_type": "markdown",
      "metadata": {
        "id": "YUkGvV6K2Nct"
      },
      "source": [
        "- Insira o caminho do seu drive"
      ]
    },
    {
      "cell_type": "code",
      "execution_count": 2,
      "metadata": {
        "id": "vzFFCUfe1jOH"
      },
      "outputs": [],
      "source": [
        "# Pasta com os dados Horários\n",
        "path = f'/content/drive/MyDrive/JOAO_GABRIEL_MESTRADO/MESTRADO/DADOS/GLM/DADOS_horarios/{ano}/'\n",
        "\n",
        "# pasta de saída dos dados diários\n",
        "path_dia = '/content/drive/MyDrive/JOAO_GABRIEL_MESTRADO/MESTRADO/DADOS/GLM/DADOS_diario/'"
      ]
    },
    {
      "cell_type": "markdown",
      "metadata": {
        "id": "2RdmOaUuQpiD"
      },
      "source": [
        "# **Importa as bibliotecas**"
      ]
    },
    {
      "cell_type": "code",
      "execution_count": 3,
      "metadata": {
        "id": "OaKBKpAK4aff"
      },
      "outputs": [],
      "source": [
        "import xarray as xr\n",
        "import time as t\n",
        "import pandas as pd\n",
        "import glob\n",
        "import numpy as np\n",
        "import os\n",
        "from time import process_time\n",
        "import calendar\n",
        "from datetime import datetime\n",
        "from tqdm.notebook import tqdm_notebook\n",
        "import warnings\n",
        "warnings.filterwarnings(\"ignore\")"
      ]
    },
    {
      "cell_type": "markdown",
      "metadata": {
        "id": "vFWEpBGw6ioa"
      },
      "source": [
        "# **Monta Drive**"
      ]
    },
    {
      "cell_type": "code",
      "execution_count": 4,
      "metadata": {
        "colab": {
          "base_uri": "https://localhost:8080/"
        },
        "id": "06L2Uz5F6jdF",
        "outputId": "5a9762e1-00da-42e3-de12-419bea98740c"
      },
      "outputs": [
        {
          "output_type": "stream",
          "name": "stdout",
          "text": [
            "Drive already mounted at /content/drive; to attempt to forcibly remount, call drive.mount(\"/content/drive\", force_remount=True).\n"
          ]
        }
      ],
      "source": [
        "# acessando o drive\n",
        "from google.colab import drive\n",
        "drive.mount('/content/drive')"
      ]
    },
    {
      "cell_type": "markdown",
      "metadata": {
        "id": "Ud2_ve1HnRdN"
      },
      "source": [
        "#**Acumula os dados de flashes: por Dia**"
      ]
    },
    {
      "cell_type": "code",
      "execution_count": null,
      "metadata": {
        "colab": {
          "base_uri": "https://localhost:8080/",
          "height": 187,
          "referenced_widgets": [
            "fc98a5d8ca1447a48440acdd45ad33fd",
            "a0b9e7abd298487f87e584c1b2932a3d",
            "c4e6d53958a548f6aa8936e9e53cf72f",
            "7f26ad1d35724d59af4b26eb3528a1c0",
            "bb1a718388b34bf68517c7d89ffe3d1d",
            "7eb221cd238f43ff9edd1faa4b1b7eed",
            "df1b5fea0a264a31a7080e9d838da206",
            "53118047a60a4220a9fa287e726020fa",
            "055ebe6f1f4545b892e0f18034233e9c",
            "c91c06c45e044103b47e89a77f361a22",
            "c7d0551a884f4c9a82c12e8519b68ca0"
          ]
        },
        "id": "9W9Qq7d_0a4f",
        "outputId": "bb143f6b-7f04-47d0-a133-9b9e1a6bd782"
      },
      "outputs": [
        {
          "output_type": "stream",
          "name": "stdout",
          "text": [
            "364 days, 23:00:00\n",
            "2021-01-01 00:00:00\n",
            "20210101 00\n"
          ]
        },
        {
          "output_type": "display_data",
          "data": {
            "text/plain": [
              "  0%|          | 0/365 [00:00<?, ?it/s]"
            ],
            "application/vnd.jupyter.widget-view+json": {
              "version_major": 2,
              "version_minor": 0,
              "model_id": "fc98a5d8ca1447a48440acdd45ad33fd"
            }
          },
          "metadata": {}
        },
        {
          "output_type": "stream",
          "name": "stdout",
          "text": [
            "2021 01 01  ...  3\n",
            "2021 01 02  ...  18\n",
            "2021 01 03  ...  24\n",
            "2021 01 04  ...  24\n",
            "2021 01 05  ...  24\n"
          ]
        }
      ],
      "source": [
        "# Inicia o contador de tempo\n",
        "start_time = t.time()\n",
        "\n",
        "# Data inicial\n",
        "date_in = datetime(int(ano), 1, 1,0)\n",
        "date_ini = date_in.strftime('%Y%m%d %H') \n",
        "\n",
        "# Data final\n",
        "date_en = datetime(int(ano), 12, 31,23)\n",
        "date_end = date_en.strftime('%Y%m%d %H')\n",
        "\n",
        "# Número  de dias \n",
        "n_days = date_en - date_in\n",
        "\n",
        "print(n_days)\n",
        "print(date_in)\n",
        "print(date_ini)\n",
        "\n",
        "# Loop por dia\n",
        "for file in  tqdm_notebook(pd.date_range(date_ini, date_end, freq='D')):\n",
        "    \n",
        "  # extrai a data\n",
        "  ano = file.strftime('%Y')\n",
        "  mes = file.strftime('%m')\n",
        "  dia = file.strftime('%d')\n",
        "  hora = file.strftime('%H')\n",
        "  \n",
        "  # monta lista de arquivos daquele dia\n",
        "  files = glob.glob(f'{path}flash_horario_goes16_{ano}-{mes}-{dia}-*.nc')\n",
        "    \n",
        "  # Se existe arquivos naquele dia\n",
        "  if len(files) > 0:\n",
        "\n",
        "    print(ano, mes, dia,' ... ', len(files))\n",
        "\n",
        "    # leitura dos dados num único dataset\n",
        "    glm = xr.open_mfdataset(f'{path}flash_horario_goes16_{ano}-{mes}-{dia}-*.nc', parallel=True)\n",
        "\n",
        "    # reamostra para escala diária\n",
        "    glm['flash'].resample(time='1D').sum().to_netcdf(f'{path_dia}{ano}/flash_diario_goes16_{ano}-{mes}-{dia}.nc') \n",
        "\n",
        "# Contabiliza o tempo para baixar os dados\n",
        "print('\\nTempo de concatenar os dados:', (round((t.time() - start_time),2))/60., 'minutos.')"
      ]
    },
    {
      "cell_type": "code",
      "execution_count": null,
      "metadata": {
        "id": "IFQv-c9bVmFW"
      },
      "outputs": [],
      "source": [
        ""
      ]
    }
  ],
  "metadata": {
    "colab": {
      "name": "Código_3_Gera_NetCDF_Diário_glm_ELISA.ipynb",
      "provenance": [],
      "authorship_tag": "ABX9TyNlfSQvPgqiHz74HDrU0NOt",
      "include_colab_link": true
    },
    "kernelspec": {
      "display_name": "Python 3",
      "name": "python3"
    },
    "language_info": {
      "name": "python"
    },
    "widgets": {
      "application/vnd.jupyter.widget-state+json": {
        "fc98a5d8ca1447a48440acdd45ad33fd": {
          "model_module": "@jupyter-widgets/controls",
          "model_name": "HBoxModel",
          "model_module_version": "1.5.0",
          "state": {
            "_dom_classes": [],
            "_model_module": "@jupyter-widgets/controls",
            "_model_module_version": "1.5.0",
            "_model_name": "HBoxModel",
            "_view_count": null,
            "_view_module": "@jupyter-widgets/controls",
            "_view_module_version": "1.5.0",
            "_view_name": "HBoxView",
            "box_style": "",
            "children": [
              "IPY_MODEL_a0b9e7abd298487f87e584c1b2932a3d",
              "IPY_MODEL_c4e6d53958a548f6aa8936e9e53cf72f",
              "IPY_MODEL_7f26ad1d35724d59af4b26eb3528a1c0"
            ],
            "layout": "IPY_MODEL_bb1a718388b34bf68517c7d89ffe3d1d"
          }
        },
        "a0b9e7abd298487f87e584c1b2932a3d": {
          "model_module": "@jupyter-widgets/controls",
          "model_name": "HTMLModel",
          "model_module_version": "1.5.0",
          "state": {
            "_dom_classes": [],
            "_model_module": "@jupyter-widgets/controls",
            "_model_module_version": "1.5.0",
            "_model_name": "HTMLModel",
            "_view_count": null,
            "_view_module": "@jupyter-widgets/controls",
            "_view_module_version": "1.5.0",
            "_view_name": "HTMLView",
            "description": "",
            "description_tooltip": null,
            "layout": "IPY_MODEL_7eb221cd238f43ff9edd1faa4b1b7eed",
            "placeholder": "​",
            "style": "IPY_MODEL_df1b5fea0a264a31a7080e9d838da206",
            "value": "  1%"
          }
        },
        "c4e6d53958a548f6aa8936e9e53cf72f": {
          "model_module": "@jupyter-widgets/controls",
          "model_name": "FloatProgressModel",
          "model_module_version": "1.5.0",
          "state": {
            "_dom_classes": [],
            "_model_module": "@jupyter-widgets/controls",
            "_model_module_version": "1.5.0",
            "_model_name": "FloatProgressModel",
            "_view_count": null,
            "_view_module": "@jupyter-widgets/controls",
            "_view_module_version": "1.5.0",
            "_view_name": "ProgressView",
            "bar_style": "",
            "description": "",
            "description_tooltip": null,
            "layout": "IPY_MODEL_53118047a60a4220a9fa287e726020fa",
            "max": 365,
            "min": 0,
            "orientation": "horizontal",
            "style": "IPY_MODEL_055ebe6f1f4545b892e0f18034233e9c",
            "value": 4
          }
        },
        "7f26ad1d35724d59af4b26eb3528a1c0": {
          "model_module": "@jupyter-widgets/controls",
          "model_name": "HTMLModel",
          "model_module_version": "1.5.0",
          "state": {
            "_dom_classes": [],
            "_model_module": "@jupyter-widgets/controls",
            "_model_module_version": "1.5.0",
            "_model_name": "HTMLModel",
            "_view_count": null,
            "_view_module": "@jupyter-widgets/controls",
            "_view_module_version": "1.5.0",
            "_view_name": "HTMLView",
            "description": "",
            "description_tooltip": null,
            "layout": "IPY_MODEL_c91c06c45e044103b47e89a77f361a22",
            "placeholder": "​",
            "style": "IPY_MODEL_c7d0551a884f4c9a82c12e8519b68ca0",
            "value": " 4/365 [00:20&lt;31:22,  5.22s/it]"
          }
        },
        "bb1a718388b34bf68517c7d89ffe3d1d": {
          "model_module": "@jupyter-widgets/base",
          "model_name": "LayoutModel",
          "model_module_version": "1.2.0",
          "state": {
            "_model_module": "@jupyter-widgets/base",
            "_model_module_version": "1.2.0",
            "_model_name": "LayoutModel",
            "_view_count": null,
            "_view_module": "@jupyter-widgets/base",
            "_view_module_version": "1.2.0",
            "_view_name": "LayoutView",
            "align_content": null,
            "align_items": null,
            "align_self": null,
            "border": null,
            "bottom": null,
            "display": null,
            "flex": null,
            "flex_flow": null,
            "grid_area": null,
            "grid_auto_columns": null,
            "grid_auto_flow": null,
            "grid_auto_rows": null,
            "grid_column": null,
            "grid_gap": null,
            "grid_row": null,
            "grid_template_areas": null,
            "grid_template_columns": null,
            "grid_template_rows": null,
            "height": null,
            "justify_content": null,
            "justify_items": null,
            "left": null,
            "margin": null,
            "max_height": null,
            "max_width": null,
            "min_height": null,
            "min_width": null,
            "object_fit": null,
            "object_position": null,
            "order": null,
            "overflow": null,
            "overflow_x": null,
            "overflow_y": null,
            "padding": null,
            "right": null,
            "top": null,
            "visibility": null,
            "width": null
          }
        },
        "7eb221cd238f43ff9edd1faa4b1b7eed": {
          "model_module": "@jupyter-widgets/base",
          "model_name": "LayoutModel",
          "model_module_version": "1.2.0",
          "state": {
            "_model_module": "@jupyter-widgets/base",
            "_model_module_version": "1.2.0",
            "_model_name": "LayoutModel",
            "_view_count": null,
            "_view_module": "@jupyter-widgets/base",
            "_view_module_version": "1.2.0",
            "_view_name": "LayoutView",
            "align_content": null,
            "align_items": null,
            "align_self": null,
            "border": null,
            "bottom": null,
            "display": null,
            "flex": null,
            "flex_flow": null,
            "grid_area": null,
            "grid_auto_columns": null,
            "grid_auto_flow": null,
            "grid_auto_rows": null,
            "grid_column": null,
            "grid_gap": null,
            "grid_row": null,
            "grid_template_areas": null,
            "grid_template_columns": null,
            "grid_template_rows": null,
            "height": null,
            "justify_content": null,
            "justify_items": null,
            "left": null,
            "margin": null,
            "max_height": null,
            "max_width": null,
            "min_height": null,
            "min_width": null,
            "object_fit": null,
            "object_position": null,
            "order": null,
            "overflow": null,
            "overflow_x": null,
            "overflow_y": null,
            "padding": null,
            "right": null,
            "top": null,
            "visibility": null,
            "width": null
          }
        },
        "df1b5fea0a264a31a7080e9d838da206": {
          "model_module": "@jupyter-widgets/controls",
          "model_name": "DescriptionStyleModel",
          "model_module_version": "1.5.0",
          "state": {
            "_model_module": "@jupyter-widgets/controls",
            "_model_module_version": "1.5.0",
            "_model_name": "DescriptionStyleModel",
            "_view_count": null,
            "_view_module": "@jupyter-widgets/base",
            "_view_module_version": "1.2.0",
            "_view_name": "StyleView",
            "description_width": ""
          }
        },
        "53118047a60a4220a9fa287e726020fa": {
          "model_module": "@jupyter-widgets/base",
          "model_name": "LayoutModel",
          "model_module_version": "1.2.0",
          "state": {
            "_model_module": "@jupyter-widgets/base",
            "_model_module_version": "1.2.0",
            "_model_name": "LayoutModel",
            "_view_count": null,
            "_view_module": "@jupyter-widgets/base",
            "_view_module_version": "1.2.0",
            "_view_name": "LayoutView",
            "align_content": null,
            "align_items": null,
            "align_self": null,
            "border": null,
            "bottom": null,
            "display": null,
            "flex": null,
            "flex_flow": null,
            "grid_area": null,
            "grid_auto_columns": null,
            "grid_auto_flow": null,
            "grid_auto_rows": null,
            "grid_column": null,
            "grid_gap": null,
            "grid_row": null,
            "grid_template_areas": null,
            "grid_template_columns": null,
            "grid_template_rows": null,
            "height": null,
            "justify_content": null,
            "justify_items": null,
            "left": null,
            "margin": null,
            "max_height": null,
            "max_width": null,
            "min_height": null,
            "min_width": null,
            "object_fit": null,
            "object_position": null,
            "order": null,
            "overflow": null,
            "overflow_x": null,
            "overflow_y": null,
            "padding": null,
            "right": null,
            "top": null,
            "visibility": null,
            "width": null
          }
        },
        "055ebe6f1f4545b892e0f18034233e9c": {
          "model_module": "@jupyter-widgets/controls",
          "model_name": "ProgressStyleModel",
          "model_module_version": "1.5.0",
          "state": {
            "_model_module": "@jupyter-widgets/controls",
            "_model_module_version": "1.5.0",
            "_model_name": "ProgressStyleModel",
            "_view_count": null,
            "_view_module": "@jupyter-widgets/base",
            "_view_module_version": "1.2.0",
            "_view_name": "StyleView",
            "bar_color": null,
            "description_width": ""
          }
        },
        "c91c06c45e044103b47e89a77f361a22": {
          "model_module": "@jupyter-widgets/base",
          "model_name": "LayoutModel",
          "model_module_version": "1.2.0",
          "state": {
            "_model_module": "@jupyter-widgets/base",
            "_model_module_version": "1.2.0",
            "_model_name": "LayoutModel",
            "_view_count": null,
            "_view_module": "@jupyter-widgets/base",
            "_view_module_version": "1.2.0",
            "_view_name": "LayoutView",
            "align_content": null,
            "align_items": null,
            "align_self": null,
            "border": null,
            "bottom": null,
            "display": null,
            "flex": null,
            "flex_flow": null,
            "grid_area": null,
            "grid_auto_columns": null,
            "grid_auto_flow": null,
            "grid_auto_rows": null,
            "grid_column": null,
            "grid_gap": null,
            "grid_row": null,
            "grid_template_areas": null,
            "grid_template_columns": null,
            "grid_template_rows": null,
            "height": null,
            "justify_content": null,
            "justify_items": null,
            "left": null,
            "margin": null,
            "max_height": null,
            "max_width": null,
            "min_height": null,
            "min_width": null,
            "object_fit": null,
            "object_position": null,
            "order": null,
            "overflow": null,
            "overflow_x": null,
            "overflow_y": null,
            "padding": null,
            "right": null,
            "top": null,
            "visibility": null,
            "width": null
          }
        },
        "c7d0551a884f4c9a82c12e8519b68ca0": {
          "model_module": "@jupyter-widgets/controls",
          "model_name": "DescriptionStyleModel",
          "model_module_version": "1.5.0",
          "state": {
            "_model_module": "@jupyter-widgets/controls",
            "_model_module_version": "1.5.0",
            "_model_name": "DescriptionStyleModel",
            "_view_count": null,
            "_view_module": "@jupyter-widgets/base",
            "_view_module_version": "1.2.0",
            "_view_name": "StyleView",
            "description_width": ""
          }
        }
      }
    }
  },
  "nbformat": 4,
  "nbformat_minor": 0
}