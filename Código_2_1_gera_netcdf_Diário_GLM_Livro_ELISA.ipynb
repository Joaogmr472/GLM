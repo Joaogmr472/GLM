{
  "cells": [
    {
      "cell_type": "markdown",
      "metadata": {
        "id": "view-in-github",
        "colab_type": "text"
      },
      "source": [
        "<a href=\"https://colab.research.google.com/github/Joaogmr472/GLM/blob/main/C%C3%B3digo_2_1_gera_netcdf_Di%C3%A1rio_GLM_Livro_ELISA.ipynb\" target=\"_parent\"><img src=\"https://colab.research.google.com/assets/colab-badge.svg\" alt=\"Open In Colab\"/></a>"
      ]
    },
    {
      "cell_type": "markdown",
      "metadata": {
        "id": "eIqdWv3AHV3T"
      },
      "source": [
        "# **GOES-16: REDE GLM (PARTE II.I)** \n",
        "\n",
        "**Gera arquivo Netcdf Diário do GLM**\n",
        "\n",
        "---\n",
        "**OBJETIVO:** Este Google Colab acumula os dados de flashes do GLM abordo do GOES-16 para escala **Diária**.\n",
        "\n",
        "**DADOS DE ENTRADA**: Dados de flashes do GOES-16. \n",
        "\n",
        "**Dados:** Arquivos de relâmpagos a cada 5 min. **Local:** Os dados são processados e fornecidos pelo CPTEC/INPE e estão disponiveis [aqui](http://ftp.cptec.inpe.br/goes/goes16/goes16_web/glm_acumulado_nc/). \n",
        "**Nome:** S11635949_202011010000.nc.\n",
        "**Formato:** Netcdf\t\n",
        "---\n",
        "\n",
        "---\n",
        "**DADOS DE SAÍDA:**\n",
        "Arquivo netcdf de flashes por Dia. \n",
        "**Nome:** flash_Diario_goes16_2020-01-03.nc. São salvos na pasta **output** criada no drive.\n",
        "---\n",
        "**PROCEDIMENTO REALIZADO:** Os seguintes procedimentos são realizados nesse código:\n",
        "1.   Instalação da biblioteca `pyunpack`\n",
        "2.   Importação das bibliotecas\n",
        "3.   Monta o drive da pessoa\n",
        "4.   Download dos dados através do Drive\n",
        "5.   Descompacta os dados baixados\n",
        "6.   Acumula os flashes por Dia\n",
        "7.   Salva os dados Diários num arquivo netcdf\n",
        " \n",
        "---\n",
        "**OBSERVAÇÕES IMPORTANTES**: \n",
        "1. Mudar o caminho para seu drive. Veja em: **###MUDANÇAS AQUI####**\n",
        "---\n",
        "***Realizado por: [João G M Ribeiro](https://github.com/Joaogmr472/) e [Enrique V Mattos](https://github.com/evmpython) - 17/mar/2022*** "
      ]
    },
    {
      "cell_type": "markdown",
      "source": [
        "# **#########    MUDANÇAS AQUI    #########**"
      ],
      "metadata": {
        "id": "Z8w6Sb9iL5tq"
      }
    },
    {
      "cell_type": "code",
      "source": [
        "# local dos dados a cada 5 min\n",
        "path_5min = '/content/drive/MyDrive/MESTRADO/DADOS/GLM/DADOS_5min/2021/'\n",
        "\n",
        "# pasta de saída dos dados horários\n",
        "path = '/content/drive/MyDrive/MESTRADO/DADOS/GLM/DADOS_diario/'"
      ],
      "metadata": {
        "id": "qfVARDM0L53A"
      },
      "execution_count": 9,
      "outputs": []
    },
    {
      "cell_type": "markdown",
      "source": [
        "Escolhe o ano dos dados"
      ],
      "metadata": {
        "id": "SrEp8WEcMTOl"
      }
    },
    {
      "cell_type": "code",
      "execution_count": 2,
      "metadata": {
        "id": "TUFy9-J05FvS"
      },
      "outputs": [],
      "source": [
        "ano = '2021'"
      ]
    },
    {
      "cell_type": "markdown",
      "metadata": {
        "id": "cWw91sVP3Ot6"
      },
      "source": [
        "# **Instala biblioteca que descompacta arquivos .rar**"
      ]
    },
    {
      "cell_type": "code",
      "execution_count": 3,
      "metadata": {
        "colab": {
          "base_uri": "https://localhost:8080/"
        },
        "id": "NS8K7ynYqUwP",
        "outputId": "cec108c9-f7ce-4be1-b427-e1e23ca097ea"
      },
      "outputs": [
        {
          "output_type": "stream",
          "name": "stdout",
          "text": [
            "Collecting patool\n",
            "  Downloading patool-1.12-py2.py3-none-any.whl (77 kB)\n",
            "\u001b[?25l\r\u001b[K     |████▎                           | 10 kB 17.2 MB/s eta 0:00:01\r\u001b[K     |████████▌                       | 20 kB 12.4 MB/s eta 0:00:01\r\u001b[K     |████████████▊                   | 30 kB 7.8 MB/s eta 0:00:01\r\u001b[K     |█████████████████               | 40 kB 7.4 MB/s eta 0:00:01\r\u001b[K     |█████████████████████▏          | 51 kB 6.0 MB/s eta 0:00:01\r\u001b[K     |█████████████████████████▍      | 61 kB 7.0 MB/s eta 0:00:01\r\u001b[K     |█████████████████████████████▋  | 71 kB 7.3 MB/s eta 0:00:01\r\u001b[K     |████████████████████████████████| 77 kB 3.0 MB/s \n",
            "\u001b[?25hCollecting pyunpack\n",
            "  Downloading pyunpack-0.2.2-py2.py3-none-any.whl (3.8 kB)\n",
            "Collecting easyprocess\n",
            "  Downloading EasyProcess-1.1-py3-none-any.whl (8.7 kB)\n",
            "Collecting entrypoint2\n",
            "  Downloading entrypoint2-1.0-py3-none-any.whl (9.8 kB)\n",
            "Installing collected packages: entrypoint2, easyprocess, pyunpack, patool\n",
            "Successfully installed easyprocess-1.1 entrypoint2-1.0 patool-1.12 pyunpack-0.2.2\n"
          ]
        }
      ],
      "source": [
        "!pip install patool pyunpack"
      ]
    },
    {
      "cell_type": "markdown",
      "metadata": {
        "id": "9Qa5t9tO3Tl4"
      },
      "source": [
        "# **Importa bibliotecas**"
      ]
    },
    {
      "cell_type": "code",
      "execution_count": 4,
      "metadata": {
        "id": "zuoDRNyNqeqM"
      },
      "outputs": [],
      "source": [
        "import xarray as xr\n",
        "import time as t\n",
        "import glob\n",
        "import numpy as np\n",
        "from pyunpack import Archive\n",
        "import os\n",
        "import pandas as pd\n",
        "from datetime import datetime\n",
        "from tqdm.notebook import tqdm_notebook\n",
        "\n",
        "import warnings\n",
        "warnings.filterwarnings(\"ignore\")"
      ]
    },
    {
      "cell_type": "markdown",
      "source": [
        "# **Acessando o drive**"
      ],
      "metadata": {
        "id": "AUtHk4ddMcNL"
      }
    },
    {
      "cell_type": "code",
      "source": [
        "from google.colab import drive\n",
        "drive.mount('/content/drive')\n",
        "\n",
        "os.makedirs('input', exist_ok=True)"
      ],
      "metadata": {
        "id": "XF77U68KMYwr",
        "colab": {
          "base_uri": "https://localhost:8080/"
        },
        "outputId": "cc29dae3-1b77-4357-b81d-aa451a5f11da"
      },
      "execution_count": 5,
      "outputs": [
        {
          "output_type": "stream",
          "name": "stdout",
          "text": [
            "Mounted at /content/drive\n"
          ]
        }
      ]
    },
    {
      "cell_type": "markdown",
      "metadata": {
        "id": "adqWvG7B3hp8"
      },
      "source": [
        "# **Decompacta os arquivos baixados**"
      ]
    },
    {
      "cell_type": "code",
      "execution_count": 6,
      "metadata": {
        "colab": {
          "base_uri": "https://localhost:8080/"
        },
        "id": "X76S6U52qewA",
        "outputId": "731e61c2-f823-49be-d11c-73b2fa49a875"
      },
      "outputs": [
        {
          "output_type": "stream",
          "name": "stdout",
          "text": [
            "1\n",
            "2\n",
            "3\n",
            "4\n",
            "5\n",
            "6\n",
            "7\n",
            "8\n",
            "9\n",
            "10\n",
            "11\n",
            "12\n"
          ]
        }
      ],
      "source": [
        "# Looping para cada mês do ano\n",
        "for i in range(1, 13):\n",
        "  print(i)\n",
        "  Archive(f'{path_5min}{str(i).zfill(2)}.rar').extractall(f'/content/input/') "
      ]
    },
    {
      "cell_type": "markdown",
      "metadata": {
        "id": "Wbt2Uufi31mX"
      },
      "source": [
        "# **Acumula os dados de flashes**: por Dia"
      ]
    },
    {
      "cell_type": "code",
      "execution_count": 10,
      "metadata": {
        "colab": {
          "base_uri": "https://localhost:8080/",
          "height": 136,
          "referenced_widgets": [
            "0867fb6ba2114ba7a6c9eefc38d5e4aa",
            "e65793e808a042a2b23a5dc9cc80d1a4",
            "9fba92610f6c4047935080abdf20bbca",
            "89ccd72fbef342aab3e1accb52394cd0",
            "03e40c2ebedf4c65b1edb5c2fa215c4e",
            "a59417198e8947199daa93370ac91202",
            "d21b3bff8dcd4eceb43fb3d3005f6840",
            "964306126d1d48699a3cb990179dbe86",
            "bf77c23345f44ead9c4ce4aba0f40342",
            "1cc3c245865e493380b96ba020985dfd",
            "e4f3edfe65d249a9bc5dfecd7108df98"
          ]
        },
        "id": "7LPNA0WHCjSl",
        "outputId": "dab8b613-91b4-4620-fb50-fd766a2ad7a0"
      },
      "outputs": [
        {
          "output_type": "stream",
          "name": "stdout",
          "text": [
            "364 days, 23:00:00\n",
            "2021-01-01 00:00:00\n",
            "20210101 00\n"
          ]
        },
        {
          "output_type": "display_data",
          "data": {
            "text/plain": [
              "  0%|          | 0/365 [00:00<?, ?it/s]"
            ],
            "application/vnd.jupyter.widget-view+json": {
              "version_major": 2,
              "version_minor": 0,
              "model_id": "0867fb6ba2114ba7a6c9eefc38d5e4aa"
            }
          },
          "metadata": {}
        },
        {
          "output_type": "stream",
          "name": "stdout",
          "text": [
            "\n",
            "Tempo de concatenar os dados: 239.18833333333333 minutos.\n"
          ]
        }
      ],
      "source": [
        "# Inicia o contador de tempo\n",
        "start_time = t.time()\n",
        "\n",
        "# Data inicial\n",
        "date_in = datetime(int(ano), 1, 1,0)\n",
        "date_ini = date_in.strftime('%Y%m%d %H') \n",
        "\n",
        "# Data final\n",
        "date_en = datetime(int(ano), 12, 31,23)\n",
        "date_end = date_en.strftime('%Y%m%d %H')\n",
        "\n",
        "# Número  de dias \n",
        "n_days = date_en - date_in\n",
        "\n",
        "print(n_days)\n",
        "print(date_in)\n",
        "print(date_ini)\n",
        "\n",
        "# Loop por dia\n",
        "for file in  tqdm_notebook(pd.date_range(date_ini, date_end, freq='D')):\n",
        "    \n",
        "  # extrai a data\n",
        "    ano = file.strftime('%Y')\n",
        "    mes = file.strftime('%m')\n",
        "    dia = file.strftime('%d')\n",
        "\n",
        "    # monta lista de arquivos daquele dia\n",
        "    files = glob.glob(f'/content/input/S11635949_{ano}{mes}{dia}*.nc')\n",
        "\n",
        "    # Se existe arquivos naquele dia\n",
        "    if len(files) > 0:\n",
        "\n",
        "        # leitura dos dados num único dataset\n",
        "        glm = xr.open_mfdataset(f'/content/input/S11635949_{ano}{mes}{dia}*.nc', parallel=True)\n",
        "\n",
        "        # reamostra para escala diária\n",
        "        glm['flash'].resample(time='1D').sum().to_netcdf(f'{path}{ano}/flash_diario_goes16_{ano}-{mes}-{dia}-00.nc') \n",
        "\n",
        "# Contabiliza o tempo para baixar os dados\n",
        "print('\\nTempo de concatenar os dados:', (round((t.time() - start_time),2))/60., 'minutos.') "
      ]
    },
    {
      "cell_type": "code",
      "execution_count": null,
      "metadata": {
        "id": "KD9UEwoRR_-c"
      },
      "outputs": [],
      "source": [
        ""
      ]
    }
  ],
  "metadata": {
    "colab": {
      "collapsed_sections": [
        "cWw91sVP3Ot6",
        "9Qa5t9tO3Tl4",
        "aGph1MdP4Qxl",
        "oGwF0qcT3Xes",
        "adqWvG7B3hp8",
        "Wbt2Uufi31mX"
      ],
      "name": "Código_2-1_gera_netcdf_Diário_GLM_Livro_ELISA.ipynb",
      "provenance": [],
      "include_colab_link": true
    },
    "kernelspec": {
      "display_name": "Python 3",
      "name": "python3"
    },
    "language_info": {
      "name": "python"
    },
    "widgets": {
      "application/vnd.jupyter.widget-state+json": {
        "0867fb6ba2114ba7a6c9eefc38d5e4aa": {
          "model_module": "@jupyter-widgets/controls",
          "model_name": "HBoxModel",
          "model_module_version": "1.5.0",
          "state": {
            "_dom_classes": [],
            "_model_module": "@jupyter-widgets/controls",
            "_model_module_version": "1.5.0",
            "_model_name": "HBoxModel",
            "_view_count": null,
            "_view_module": "@jupyter-widgets/controls",
            "_view_module_version": "1.5.0",
            "_view_name": "HBoxView",
            "box_style": "",
            "children": [
              "IPY_MODEL_e65793e808a042a2b23a5dc9cc80d1a4",
              "IPY_MODEL_9fba92610f6c4047935080abdf20bbca",
              "IPY_MODEL_89ccd72fbef342aab3e1accb52394cd0"
            ],
            "layout": "IPY_MODEL_03e40c2ebedf4c65b1edb5c2fa215c4e"
          }
        },
        "e65793e808a042a2b23a5dc9cc80d1a4": {
          "model_module": "@jupyter-widgets/controls",
          "model_name": "HTMLModel",
          "model_module_version": "1.5.0",
          "state": {
            "_dom_classes": [],
            "_model_module": "@jupyter-widgets/controls",
            "_model_module_version": "1.5.0",
            "_model_name": "HTMLModel",
            "_view_count": null,
            "_view_module": "@jupyter-widgets/controls",
            "_view_module_version": "1.5.0",
            "_view_name": "HTMLView",
            "description": "",
            "description_tooltip": null,
            "layout": "IPY_MODEL_a59417198e8947199daa93370ac91202",
            "placeholder": "​",
            "style": "IPY_MODEL_d21b3bff8dcd4eceb43fb3d3005f6840",
            "value": "100%"
          }
        },
        "9fba92610f6c4047935080abdf20bbca": {
          "model_module": "@jupyter-widgets/controls",
          "model_name": "FloatProgressModel",
          "model_module_version": "1.5.0",
          "state": {
            "_dom_classes": [],
            "_model_module": "@jupyter-widgets/controls",
            "_model_module_version": "1.5.0",
            "_model_name": "FloatProgressModel",
            "_view_count": null,
            "_view_module": "@jupyter-widgets/controls",
            "_view_module_version": "1.5.0",
            "_view_name": "ProgressView",
            "bar_style": "success",
            "description": "",
            "description_tooltip": null,
            "layout": "IPY_MODEL_964306126d1d48699a3cb990179dbe86",
            "max": 365,
            "min": 0,
            "orientation": "horizontal",
            "style": "IPY_MODEL_bf77c23345f44ead9c4ce4aba0f40342",
            "value": 365
          }
        },
        "89ccd72fbef342aab3e1accb52394cd0": {
          "model_module": "@jupyter-widgets/controls",
          "model_name": "HTMLModel",
          "model_module_version": "1.5.0",
          "state": {
            "_dom_classes": [],
            "_model_module": "@jupyter-widgets/controls",
            "_model_module_version": "1.5.0",
            "_model_name": "HTMLModel",
            "_view_count": null,
            "_view_module": "@jupyter-widgets/controls",
            "_view_module_version": "1.5.0",
            "_view_name": "HTMLView",
            "description": "",
            "description_tooltip": null,
            "layout": "IPY_MODEL_1cc3c245865e493380b96ba020985dfd",
            "placeholder": "​",
            "style": "IPY_MODEL_e4f3edfe65d249a9bc5dfecd7108df98",
            "value": " 365/365 [3:59:11&lt;00:00, 38.95s/it]"
          }
        },
        "03e40c2ebedf4c65b1edb5c2fa215c4e": {
          "model_module": "@jupyter-widgets/base",
          "model_name": "LayoutModel",
          "model_module_version": "1.2.0",
          "state": {
            "_model_module": "@jupyter-widgets/base",
            "_model_module_version": "1.2.0",
            "_model_name": "LayoutModel",
            "_view_count": null,
            "_view_module": "@jupyter-widgets/base",
            "_view_module_version": "1.2.0",
            "_view_name": "LayoutView",
            "align_content": null,
            "align_items": null,
            "align_self": null,
            "border": null,
            "bottom": null,
            "display": null,
            "flex": null,
            "flex_flow": null,
            "grid_area": null,
            "grid_auto_columns": null,
            "grid_auto_flow": null,
            "grid_auto_rows": null,
            "grid_column": null,
            "grid_gap": null,
            "grid_row": null,
            "grid_template_areas": null,
            "grid_template_columns": null,
            "grid_template_rows": null,
            "height": null,
            "justify_content": null,
            "justify_items": null,
            "left": null,
            "margin": null,
            "max_height": null,
            "max_width": null,
            "min_height": null,
            "min_width": null,
            "object_fit": null,
            "object_position": null,
            "order": null,
            "overflow": null,
            "overflow_x": null,
            "overflow_y": null,
            "padding": null,
            "right": null,
            "top": null,
            "visibility": null,
            "width": null
          }
        },
        "a59417198e8947199daa93370ac91202": {
          "model_module": "@jupyter-widgets/base",
          "model_name": "LayoutModel",
          "model_module_version": "1.2.0",
          "state": {
            "_model_module": "@jupyter-widgets/base",
            "_model_module_version": "1.2.0",
            "_model_name": "LayoutModel",
            "_view_count": null,
            "_view_module": "@jupyter-widgets/base",
            "_view_module_version": "1.2.0",
            "_view_name": "LayoutView",
            "align_content": null,
            "align_items": null,
            "align_self": null,
            "border": null,
            "bottom": null,
            "display": null,
            "flex": null,
            "flex_flow": null,
            "grid_area": null,
            "grid_auto_columns": null,
            "grid_auto_flow": null,
            "grid_auto_rows": null,
            "grid_column": null,
            "grid_gap": null,
            "grid_row": null,
            "grid_template_areas": null,
            "grid_template_columns": null,
            "grid_template_rows": null,
            "height": null,
            "justify_content": null,
            "justify_items": null,
            "left": null,
            "margin": null,
            "max_height": null,
            "max_width": null,
            "min_height": null,
            "min_width": null,
            "object_fit": null,
            "object_position": null,
            "order": null,
            "overflow": null,
            "overflow_x": null,
            "overflow_y": null,
            "padding": null,
            "right": null,
            "top": null,
            "visibility": null,
            "width": null
          }
        },
        "d21b3bff8dcd4eceb43fb3d3005f6840": {
          "model_module": "@jupyter-widgets/controls",
          "model_name": "DescriptionStyleModel",
          "model_module_version": "1.5.0",
          "state": {
            "_model_module": "@jupyter-widgets/controls",
            "_model_module_version": "1.5.0",
            "_model_name": "DescriptionStyleModel",
            "_view_count": null,
            "_view_module": "@jupyter-widgets/base",
            "_view_module_version": "1.2.0",
            "_view_name": "StyleView",
            "description_width": ""
          }
        },
        "964306126d1d48699a3cb990179dbe86": {
          "model_module": "@jupyter-widgets/base",
          "model_name": "LayoutModel",
          "model_module_version": "1.2.0",
          "state": {
            "_model_module": "@jupyter-widgets/base",
            "_model_module_version": "1.2.0",
            "_model_name": "LayoutModel",
            "_view_count": null,
            "_view_module": "@jupyter-widgets/base",
            "_view_module_version": "1.2.0",
            "_view_name": "LayoutView",
            "align_content": null,
            "align_items": null,
            "align_self": null,
            "border": null,
            "bottom": null,
            "display": null,
            "flex": null,
            "flex_flow": null,
            "grid_area": null,
            "grid_auto_columns": null,
            "grid_auto_flow": null,
            "grid_auto_rows": null,
            "grid_column": null,
            "grid_gap": null,
            "grid_row": null,
            "grid_template_areas": null,
            "grid_template_columns": null,
            "grid_template_rows": null,
            "height": null,
            "justify_content": null,
            "justify_items": null,
            "left": null,
            "margin": null,
            "max_height": null,
            "max_width": null,
            "min_height": null,
            "min_width": null,
            "object_fit": null,
            "object_position": null,
            "order": null,
            "overflow": null,
            "overflow_x": null,
            "overflow_y": null,
            "padding": null,
            "right": null,
            "top": null,
            "visibility": null,
            "width": null
          }
        },
        "bf77c23345f44ead9c4ce4aba0f40342": {
          "model_module": "@jupyter-widgets/controls",
          "model_name": "ProgressStyleModel",
          "model_module_version": "1.5.0",
          "state": {
            "_model_module": "@jupyter-widgets/controls",
            "_model_module_version": "1.5.0",
            "_model_name": "ProgressStyleModel",
            "_view_count": null,
            "_view_module": "@jupyter-widgets/base",
            "_view_module_version": "1.2.0",
            "_view_name": "StyleView",
            "bar_color": null,
            "description_width": ""
          }
        },
        "1cc3c245865e493380b96ba020985dfd": {
          "model_module": "@jupyter-widgets/base",
          "model_name": "LayoutModel",
          "model_module_version": "1.2.0",
          "state": {
            "_model_module": "@jupyter-widgets/base",
            "_model_module_version": "1.2.0",
            "_model_name": "LayoutModel",
            "_view_count": null,
            "_view_module": "@jupyter-widgets/base",
            "_view_module_version": "1.2.0",
            "_view_name": "LayoutView",
            "align_content": null,
            "align_items": null,
            "align_self": null,
            "border": null,
            "bottom": null,
            "display": null,
            "flex": null,
            "flex_flow": null,
            "grid_area": null,
            "grid_auto_columns": null,
            "grid_auto_flow": null,
            "grid_auto_rows": null,
            "grid_column": null,
            "grid_gap": null,
            "grid_row": null,
            "grid_template_areas": null,
            "grid_template_columns": null,
            "grid_template_rows": null,
            "height": null,
            "justify_content": null,
            "justify_items": null,
            "left": null,
            "margin": null,
            "max_height": null,
            "max_width": null,
            "min_height": null,
            "min_width": null,
            "object_fit": null,
            "object_position": null,
            "order": null,
            "overflow": null,
            "overflow_x": null,
            "overflow_y": null,
            "padding": null,
            "right": null,
            "top": null,
            "visibility": null,
            "width": null
          }
        },
        "e4f3edfe65d249a9bc5dfecd7108df98": {
          "model_module": "@jupyter-widgets/controls",
          "model_name": "DescriptionStyleModel",
          "model_module_version": "1.5.0",
          "state": {
            "_model_module": "@jupyter-widgets/controls",
            "_model_module_version": "1.5.0",
            "_model_name": "DescriptionStyleModel",
            "_view_count": null,
            "_view_module": "@jupyter-widgets/base",
            "_view_module_version": "1.2.0",
            "_view_name": "StyleView",
            "description_width": ""
          }
        }
      }
    }
  },
  "nbformat": 4,
  "nbformat_minor": 0
}